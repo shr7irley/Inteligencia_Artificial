{
 "cells": [
  {
   "cell_type": "code",
   "execution_count": 1,
   "metadata": {},
   "outputs": [],
   "source": [
    "#Importacion de bibliotecas de trabajo\n",
    "import os # Establecer directorios de trabajo\n",
    "import numpy as np # Metodos numeros y manipulacion de array\n",
    "import pandas as pd # Data frame\n"
   ]
  },
  {
   "cell_type": "code",
   "execution_count": 2,
   "metadata": {},
   "outputs": [
    {
     "name": "stdout",
     "output_type": "stream",
     "text": [
      "Requirement already satisfied: numpy in c:\\users\\shirley\\appdata\\local\\packages\\pythonsoftwarefoundation.python.3.11_qbz5n2kfra8p0\\localcache\\local-packages\\python311\\site-packages (1.26.0)\n"
     ]
    }
   ],
   "source": [
    "!pip install numpy"
   ]
  },
  {
   "cell_type": "code",
   "execution_count": 3,
   "metadata": {},
   "outputs": [
    {
     "name": "stdout",
     "output_type": "stream",
     "text": [
      "Requirement already satisfied: pandas in c:\\users\\shirley\\appdata\\local\\packages\\pythonsoftwarefoundation.python.3.11_qbz5n2kfra8p0\\localcache\\local-packages\\python311\\site-packages (2.1.0)\n",
      "Requirement already satisfied: numpy>=1.23.2 in c:\\users\\shirley\\appdata\\local\\packages\\pythonsoftwarefoundation.python.3.11_qbz5n2kfra8p0\\localcache\\local-packages\\python311\\site-packages (from pandas) (1.26.0)\n",
      "Requirement already satisfied: python-dateutil>=2.8.2 in c:\\users\\shirley\\appdata\\local\\packages\\pythonsoftwarefoundation.python.3.11_qbz5n2kfra8p0\\localcache\\local-packages\\python311\\site-packages (from pandas) (2.8.2)\n",
      "Requirement already satisfied: pytz>=2020.1 in c:\\users\\shirley\\appdata\\local\\packages\\pythonsoftwarefoundation.python.3.11_qbz5n2kfra8p0\\localcache\\local-packages\\python311\\site-packages (from pandas) (2023.3.post1)\n",
      "Requirement already satisfied: tzdata>=2022.1 in c:\\users\\shirley\\appdata\\local\\packages\\pythonsoftwarefoundation.python.3.11_qbz5n2kfra8p0\\localcache\\local-packages\\python311\\site-packages (from pandas) (2023.3)\n",
      "Requirement already satisfied: six>=1.5 in c:\\users\\shirley\\appdata\\local\\packages\\pythonsoftwarefoundation.python.3.11_qbz5n2kfra8p0\\localcache\\local-packages\\python311\\site-packages (from python-dateutil>=2.8.2->pandas) (1.16.0)\n"
     ]
    }
   ],
   "source": [
    "!pip install pandas"
   ]
  },
  {
   "cell_type": "code",
   "execution_count": 4,
   "metadata": {},
   "outputs": [
    {
     "name": "stdout",
     "output_type": "stream",
     "text": [
      "Requirement already satisfied: matplotlib in c:\\users\\shirley\\appdata\\local\\packages\\pythonsoftwarefoundation.python.3.11_qbz5n2kfra8p0\\localcache\\local-packages\\python311\\site-packages (3.8.0)\n",
      "Requirement already satisfied: contourpy>=1.0.1 in c:\\users\\shirley\\appdata\\local\\packages\\pythonsoftwarefoundation.python.3.11_qbz5n2kfra8p0\\localcache\\local-packages\\python311\\site-packages (from matplotlib) (1.1.1)\n",
      "Requirement already satisfied: cycler>=0.10 in c:\\users\\shirley\\appdata\\local\\packages\\pythonsoftwarefoundation.python.3.11_qbz5n2kfra8p0\\localcache\\local-packages\\python311\\site-packages (from matplotlib) (0.11.0)\n",
      "Requirement already satisfied: fonttools>=4.22.0 in c:\\users\\shirley\\appdata\\local\\packages\\pythonsoftwarefoundation.python.3.11_qbz5n2kfra8p0\\localcache\\local-packages\\python311\\site-packages (from matplotlib) (4.42.1)\n",
      "Requirement already satisfied: kiwisolver>=1.0.1 in c:\\users\\shirley\\appdata\\local\\packages\\pythonsoftwarefoundation.python.3.11_qbz5n2kfra8p0\\localcache\\local-packages\\python311\\site-packages (from matplotlib) (1.4.5)\n",
      "Requirement already satisfied: numpy<2,>=1.21 in c:\\users\\shirley\\appdata\\local\\packages\\pythonsoftwarefoundation.python.3.11_qbz5n2kfra8p0\\localcache\\local-packages\\python311\\site-packages (from matplotlib) (1.26.0)\n",
      "Requirement already satisfied: packaging>=20.0 in c:\\users\\shirley\\appdata\\local\\packages\\pythonsoftwarefoundation.python.3.11_qbz5n2kfra8p0\\localcache\\local-packages\\python311\\site-packages (from matplotlib) (23.1)\n",
      "Requirement already satisfied: pillow>=6.2.0 in c:\\users\\shirley\\appdata\\local\\packages\\pythonsoftwarefoundation.python.3.11_qbz5n2kfra8p0\\localcache\\local-packages\\python311\\site-packages (from matplotlib) (10.0.1)\n",
      "Requirement already satisfied: pyparsing>=2.3.1 in c:\\users\\shirley\\appdata\\local\\packages\\pythonsoftwarefoundation.python.3.11_qbz5n2kfra8p0\\localcache\\local-packages\\python311\\site-packages (from matplotlib) (3.1.1)\n",
      "Requirement already satisfied: python-dateutil>=2.7 in c:\\users\\shirley\\appdata\\local\\packages\\pythonsoftwarefoundation.python.3.11_qbz5n2kfra8p0\\localcache\\local-packages\\python311\\site-packages (from matplotlib) (2.8.2)\n",
      "Requirement already satisfied: six>=1.5 in c:\\users\\shirley\\appdata\\local\\packages\\pythonsoftwarefoundation.python.3.11_qbz5n2kfra8p0\\localcache\\local-packages\\python311\\site-packages (from python-dateutil>=2.7->matplotlib) (1.16.0)\n"
     ]
    }
   ],
   "source": [
    "!pip install matplotlib"
   ]
  },
  {
   "cell_type": "code",
   "execution_count": 5,
   "metadata": {},
   "outputs": [
    {
     "name": "stdout",
     "output_type": "stream",
     "text": [
      "Requirement already satisfied: pip in c:\\program files\\windowsapps\\pythonsoftwarefoundation.python.3.11_3.11.1520.0_x64__qbz5n2kfra8p0\\lib\\site-packages (23.2.1)\n",
      "Note: you may need to restart the kernel to use updated packages.\n"
     ]
    }
   ],
   "source": [
    "pip install --upgrade --user pip"
   ]
  },
  {
   "cell_type": "code",
   "execution_count": 6,
   "metadata": {},
   "outputs": [
    {
     "data": {
      "text/plain": [
       "'C:\\\\Users\\\\Shirley\\\\OneDrive\\\\Documentos\\\\Inteligencia artificial'"
      ]
     },
     "execution_count": 6,
     "metadata": {},
     "output_type": "execute_result"
    }
   ],
   "source": [
    "# Establecer directorio de trabajo\n",
    "#os.getcwd()\n",
    "os.chdir('C:\\\\Users\\\\Shirley\\\\OneDrive\\\\Documentos\\\\Inteligencia artificial')\n",
    "os.getcwd()"
   ]
  },
  {
   "cell_type": "code",
   "execution_count": 7,
   "metadata": {},
   "outputs": [
    {
     "data": {
      "text/plain": [
       "['Clase 2.ipynb', 'Forbes 2000 2022.csv', 'prueba.ipynb']"
      ]
     },
     "execution_count": 7,
     "metadata": {},
     "output_type": "execute_result"
    }
   ],
   "source": [
    "os.listdir()"
   ]
  },
  {
   "cell_type": "code",
   "execution_count": 8,
   "metadata": {},
   "outputs": [],
   "source": [
    "#Importacion de datos\n",
    "forbes2022= pd.read_csv('Forbes 2000 2022.csv', encoding= 'latin-1',sep=';')"
   ]
  },
  {
   "cell_type": "code",
   "execution_count": 9,
   "metadata": {},
   "outputs": [
    {
     "data": {
      "text/html": [
       "<div>\n",
       "<style scoped>\n",
       "    .dataframe tbody tr th:only-of-type {\n",
       "        vertical-align: middle;\n",
       "    }\n",
       "\n",
       "    .dataframe tbody tr th {\n",
       "        vertical-align: top;\n",
       "    }\n",
       "\n",
       "    .dataframe thead th {\n",
       "        text-align: right;\n",
       "    }\n",
       "</style>\n",
       "<table border=\"1\" class=\"dataframe\">\n",
       "  <thead>\n",
       "    <tr style=\"text-align: right;\">\n",
       "      <th></th>\n",
       "      <th>ï»¿Rank</th>\n",
       "      <th>Company Name</th>\n",
       "      <th>Country</th>\n",
       "      <th>Sales\\n($millions)</th>\n",
       "      <th>Profits\\n($millions)</th>\n",
       "      <th>Assets\\n($millions)</th>\n",
       "      <th>Market Value \\nAs of 05/12/22 ($m)</th>\n",
       "      <th>Unnamed: 7</th>\n",
       "    </tr>\n",
       "  </thead>\n",
       "  <tbody>\n",
       "    <tr>\n",
       "      <th>885</th>\n",
       "      <td>886</td>\n",
       "      <td>Ternium</td>\n",
       "      <td>Luxembourg</td>\n",
       "      <td>$15,980</td>\n",
       "      <td>$3,800</td>\n",
       "      <td>$17,100</td>\n",
       "      <td>$8,590</td>\n",
       "      <td>NaN</td>\n",
       "    </tr>\n",
       "  </tbody>\n",
       "</table>\n",
       "</div>"
      ],
      "text/plain": [
       "     ï»¿Rank Company Name     Country Sales\\n($millions) Profits\\n($millions)  \\\n",
       "885      886      Ternium  Luxembourg           $15,980               $3,800    \n",
       "\n",
       "    Assets\\n($millions) Market Value \\nAs of 05/12/22 ($m)  Unnamed: 7  \n",
       "885             $17,100                             $8,590         NaN  "
      ]
     },
     "execution_count": 9,
     "metadata": {},
     "output_type": "execute_result"
    }
   ],
   "source": [
    "forbes2022.sample() #head, tail, sample"
   ]
  },
  {
   "cell_type": "code",
   "execution_count": 10,
   "metadata": {},
   "outputs": [
    {
     "name": "stdout",
     "output_type": "stream",
     "text": [
      "(2000, 8)\n",
      "Index(['ï»¿Rank', 'Company Name', 'Country', 'Sales\\n($millions)',\n",
      "       'Profits\\n($millions)', 'Assets\\n($millions)',\n",
      "       'Market Value \\nAs of 05/12/22 ($m)', 'Unnamed: 7'],\n",
      "      dtype='object')\n"
     ]
    }
   ],
   "source": [
    "# Qué variables tengo\n",
    "\n",
    "print(forbes2022.shape)\n",
    "print(forbes2022.columns)"
   ]
  },
  {
   "cell_type": "code",
   "execution_count": 11,
   "metadata": {},
   "outputs": [
    {
     "data": {
      "text/plain": [
       "Index(['Rank', 'Company', 'Country', 'Sales', 'Profits', 'Assets',\n",
       "       'Market_value', 'Unnamed'],\n",
       "      dtype='object')"
      ]
     },
     "execution_count": 11,
     "metadata": {},
     "output_type": "execute_result"
    }
   ],
   "source": [
    "#Proceso de limpieza de datos\n",
    "forbes2022.columns = ['Rank','Company','Country','Sales','Profits','Assets','Market_value', 'Unnamed']\n",
    "forbes2022.columns"
   ]
  },
  {
   "cell_type": "code",
   "execution_count": 12,
   "metadata": {},
   "outputs": [
    {
     "name": "stdout",
     "output_type": "stream",
     "text": [
      "<class 'pandas.core.frame.DataFrame'>\n",
      "RangeIndex: 2000 entries, 0 to 1999\n",
      "Data columns (total 8 columns):\n",
      " #   Column        Non-Null Count  Dtype  \n",
      "---  ------        --------------  -----  \n",
      " 0   Rank          2000 non-null   int64  \n",
      " 1   Company       2000 non-null   object \n",
      " 2   Country       2000 non-null   object \n",
      " 3   Sales         2000 non-null   object \n",
      " 4   Profits       2000 non-null   object \n",
      " 5   Assets        2000 non-null   object \n",
      " 6   Market_value  2000 non-null   object \n",
      " 7   Unnamed       0 non-null      float64\n",
      "dtypes: float64(1), int64(1), object(6)\n",
      "memory usage: 125.1+ KB\n"
     ]
    }
   ],
   "source": [
    "forbes2022.info()"
   ]
  },
  {
   "attachments": {},
   "cell_type": "markdown",
   "metadata": {},
   "source": []
  },
  {
   "cell_type": "code",
   "execution_count": 13,
   "metadata": {},
   "outputs": [
    {
     "data": {
      "text/html": [
       "<div>\n",
       "<style scoped>\n",
       "    .dataframe tbody tr th:only-of-type {\n",
       "        vertical-align: middle;\n",
       "    }\n",
       "\n",
       "    .dataframe tbody tr th {\n",
       "        vertical-align: top;\n",
       "    }\n",
       "\n",
       "    .dataframe thead th {\n",
       "        text-align: right;\n",
       "    }\n",
       "</style>\n",
       "<table border=\"1\" class=\"dataframe\">\n",
       "  <thead>\n",
       "    <tr style=\"text-align: right;\">\n",
       "      <th></th>\n",
       "      <th>Rank</th>\n",
       "      <th>Unnamed</th>\n",
       "    </tr>\n",
       "  </thead>\n",
       "  <tbody>\n",
       "    <tr>\n",
       "      <th>count</th>\n",
       "      <td>2000.000000</td>\n",
       "      <td>0.0</td>\n",
       "    </tr>\n",
       "    <tr>\n",
       "      <th>mean</th>\n",
       "      <td>1000.500000</td>\n",
       "      <td>NaN</td>\n",
       "    </tr>\n",
       "    <tr>\n",
       "      <th>std</th>\n",
       "      <td>577.494589</td>\n",
       "      <td>NaN</td>\n",
       "    </tr>\n",
       "    <tr>\n",
       "      <th>min</th>\n",
       "      <td>1.000000</td>\n",
       "      <td>NaN</td>\n",
       "    </tr>\n",
       "    <tr>\n",
       "      <th>25%</th>\n",
       "      <td>500.750000</td>\n",
       "      <td>NaN</td>\n",
       "    </tr>\n",
       "    <tr>\n",
       "      <th>50%</th>\n",
       "      <td>1000.500000</td>\n",
       "      <td>NaN</td>\n",
       "    </tr>\n",
       "    <tr>\n",
       "      <th>75%</th>\n",
       "      <td>1500.250000</td>\n",
       "      <td>NaN</td>\n",
       "    </tr>\n",
       "    <tr>\n",
       "      <th>max</th>\n",
       "      <td>2000.000000</td>\n",
       "      <td>NaN</td>\n",
       "    </tr>\n",
       "  </tbody>\n",
       "</table>\n",
       "</div>"
      ],
      "text/plain": [
       "              Rank  Unnamed\n",
       "count  2000.000000      0.0\n",
       "mean   1000.500000      NaN\n",
       "std     577.494589      NaN\n",
       "min       1.000000      NaN\n",
       "25%     500.750000      NaN\n",
       "50%    1000.500000      NaN\n",
       "75%    1500.250000      NaN\n",
       "max    2000.000000      NaN"
      ]
     },
     "execution_count": 13,
     "metadata": {},
     "output_type": "execute_result"
    }
   ],
   "source": [
    "forbes2022.describe()"
   ]
  },
  {
   "cell_type": "code",
   "execution_count": 14,
   "metadata": {},
   "outputs": [
    {
     "data": {
      "text/plain": [
       "'$276,090 $208,130 $400,380 $124,540 $202,070 $469,820 $378,700 $181,420 $96,830 $281,750 $257,490 $184,900 $152,430 $244,160 $280,510 $261,760 $181,370 $84,120 $134,350 $163,030 $380,310 $297,550 $572,750 $71,070 $295,730 $156,290 $79,940 $86,860 $185,120 $77,610 $131,490 $116,390 $129,760 $117,930 $138,620 $60,220 $62,810 $59,330 $127,420 $94,880 $178,940 $291,980 $81,490 $96,860 $384,820 $95,250 $45,240 $145,190 $117,300 $158,010 $79,020 $110,390 $38,510 $86,850 $60,530 $89,900 $78,220 $61,470 $48,280 $136,340 $75,900 $76,000 $79,620 $131,480 $83,890 $128,590 $56,200 $51,630 $127,000 $88,370 $130,500 $68,690 $45,160 $71,080 $65,550 $151,160 $46,290 $76,460 $176,610 $69,580 $111,400 $63,460 $78,820 $174,270 $70,930 $79,470 $50,370 $144,350 $30,350 $52,060 $203,410 $51,550 $54,330 $72,980 $40,950 $91,210 $58,480 $67,250 $44,630 $97,200 $35,320 $35,220 $130,160 $146,940 $205,790 $54,420 $21,850 $54,770 $64,360 $99,410 $90,500 $32,120 $46,380 $38,730 $41,830 $57,370 $26,530 $54,400 $99,830 $39,210 $73,610 $61,640 $210,220 $214,600 $62,000 $51,680 $35,500 $46,060 $46,920 $47,840 $47,170 $23,120 $92,900 $37,770 $44,510 $46,230 $52,020 $35,960 $50,980 $108,310 $107,990 $18,980 $23,190 $37,550 $91,900 $49,170 $102,700 $25,480 $56,990 $106,000 $53,820 $41,980 $44,450 $22,510 $30,170 $84,880 $103,580 $135,950 $30,280 $102,130 $61,950 $96,250 $91,550 $96,620 $19,930 $28,500 $125,110 $31,790 $33,180 $37,550 $68,400 $65,750 $20,300 $20,460 $25,100 $106,840 $59,080 $50,570 $48,370 $91,440 $41,520 $28,330 $56,700 $21,490 $34,390 $26,760 $30,790 $76,650 $18,660 $42,940 $31,170 $18,380 $33,230 $68,150 $59,720 $58,350 $46,420 $71,420 $15,760 $34,460 $36,040 $38,160 $50,590 $121,420 $21,890 $42,380 $27,370 $68,070 $26,910 $25,990 $22,660 $46,890 $66,730 $31,550 $31,510 $25,560 $33,610 $22,890 $50,600 $35,310 $28,320 $28,720 $23,220 $74,080 $35,570 $34,160 $35,350 $22,110 $66,280 $23,230 $36,700 $70,550 $36,130 $23,970 $29,820 $35,670 $85,260 $119,780 $50,080 $62,510 $30,400 $48,070 $34,800 $51,770 $12,400 $108,410 $17,860 $39,270 $84,090 $38,470 $57,930 $14,200 $52,100 $19,020 $81,130 $23,740 $33,860 $166,460 $64,980 $13,560 $78,470 $31,210 $26,490 $27,580 $49,490 $16,090 $18,880 $29,540 $125,980 $18,480 $24,310 $23,270 $28,930 $14,640 $43,360 $25,960 $20,770 $257,010 $29,270 $20,650 $27,630 $12,810 $61,010 $52,200 $22,380 $66,660 $19,000 $89,360 $13,960 $137,890 $55,520 $14,600 $50,910 $13,710 $23,430 $46,150 $20,140 $27,790 $221,100 $23,430 $32,570 $30,360 $39,960 $10,150 $48,550 $84,170 $14,810 $33,780 $15,470 $16,620 $11,210 $72,320 $46,000 $19,780 $51,780 $15,700 $111,700 $49,520 $58,800 $48,220 $29,350 $21,110 $24,150 $47,000 $37,210 $8,630 $19,810 $20,860 $18,490 $28,650 $57,540 $37,260 $12,800 $58,660 $26,380 $22,380 $100,330 $44,260 $20,330 $13,890 $19,930 $65,970 $41,890 $22,730 $11,740 $8,250 $18,700 $23,670 $18,340 $12,770 $31,000 $18,880 $19,380 $28,590 $17,900 $16,650 $27,880 $72,200 $34,220 $26,040 $65,840 $62,240 $27,860 $21,160 $37,480 $8,890 $50,830 $114,000 $13,120 $20,930 $24,800 $157,660 $18,400 $38,840 $26,050 $16,130 $22,390 $11,540 $6,740 $70,280 $17,200 $16,230 $16,070 $90,310 $25,730 $35,670 $42,020 $23,540 $15,940 $9,360 $17,870 $10,260 $22,430 $15,900 $23,410 $35,160 $19,630 $85,900 $24,190 $64,990 $16,910 $35,860 $11,550 $17,110 $26,240 $40,340 $79,170 $31,070 $25,930 $26,850 $14,520 $28,840 $15,400 $14,930 $84,530 $28,990 $26,880 $26,330 $19,310 $26,950 $31,980 $28,420 $12,170 $20,280 $12,680 $8,520 $7,790 $18,550 $22,660 $62,290 $18,630 $11,410 $9,000 $17,770 $33,430 $23,570 $25,100 $28,130 $11,140 $14,260 $13,060 $132,850 $14,770 $28,890 $17,810 $7,010 $15,900 $10,480 $17,810 $26,170 $17,930 $23,720 $17,660 $24,800 $30,170 $13,370 $15,650 $11,370 $69,530 $23,320 $38,680 $38,490 $70,400 $29,540 $8,600 $38,860 $147,630 $16,610 $42,580 $8,270 $10,180 $87,810 $32,830 $7,550 $19,260 $34,440 $11,940 $28,970 $51,730 $53,630 $15,240 $13,750 $36,420 $17,000 $9,170 $4,690 $12,440 $11,580 $9,530 $27,380 $23,540 $13,670 $18,260 $17,520 $24,510 $22,280 $70,560 $19,270 $9,270 $6,550 $45,130 $19,950 $22,570 $11,410 $16,720 $11,430 $19,180 $20,610 $17,880 $35,860 $39,910 $21,300 $16,280 $20,530 $10,840 $13,590 $6,100 $32,850 $14,630 $10,990 $24,020 $10,570 $21,460 $4,830 $19,140 $44,430 $10,610 $8,320 $50,260 $35,880 $59,150 $12,850 $71,890 $25,440 $34,800 $27,750 $30,130 $30,090 $16,330 $26,520 $16,860 $6,380 $14,670 $17,090 $66,120 $10,590 $36,250 $8,440 $19,990 $10,940 $12,250 $15,220 $12,190 $13,430 $26,320 $7,450 $9,580 $25,350 $15,990 $32,560 $51,760 $6,080 $16,430 $12,840 $11,270 $19,790 $18,510 $6,750 $14,070 $13,700 $6,880 $13,690 $20,350 $17,100 $19,690 $6,630 $6,340 $10,430 $32,780 $14,460 $14,570 $8,800 $10,540 $17,420 $10,330 $14,740 $11,310 $12,780 $25,020 $31,400 $15,630 $15,290 $16,380 $11,470 $60,740 $15,820 $11,790 $30,070 $5,890 $11,890 $14,900 $23,370 $11,710 $10,670 $12,230 $38,000 $12,990 $19,460 $16,830 $17,270 $13,860 $12,180 $32,050 $35,100 $43,200 $16,130 $77,300 $6,570 $22,130 $16,770 $9,860 $17,590 $10,620 $21,780 $38,840 $17,070 $27,790 $7,920 $10,750 $15,790 $5,260 $16,120 $13,430 $11,320 $16,240 $8,480 $21,820 $54,540 $22,200 $6,600 $11,410 $27,220 $24,330 $54,620 $8,700 $7,750 $9,630 $12,140 $22,350 $32,900 $12,470 $21,310 $36,460 $15,460 $17,760 $11,060 $18,940 $10,960 $78,170 $5,530 $9,670 $12,920 $13,880 $34,610 $17,860 $16,220 $109,610 $15,600 $40,910 $90,100 $36,980 $17,910 $151 $23,850 $9,960 $20,640 $11,300 $18,920 $8,320 $171,290 $31,900 $12,760 $3,230 $6,350 $14,110 $22,740 $13,870 $2,690 $17,230 $75,970 $12,730 $80,800 $23,870 $26,400 $8,520 $49,750 $17,890 $8,300 $6,420 $8,880 $8,850 $5,820 $14,140 $33,700 $13,330 $10,350 $13,870 $46,140 $12,360 $14,980 $11,830 $17,450 $12,780 $14,320 $14,420 $40,440 $43,370 $10,200 $52,900 $13,590 $34,060 $20,430 $6,430 $11,760 $18,200 $14,030 $35,400 $4,770 $39,040 $5,120 $7,460 $9,440 $10,800 $3,820 $11,840 $7,840 $8,350 $7,140 $10,290 $21,790 $27,720 $28,980 $9,680 $10,880 $10,020 $34,070 $6,700 $16,890 $9,790 $26,900 $4,510 $25,270 $6,040 $14,180 $16,520 $17,610 $14,270 $23,390 $17,640 $11,610 $16,560 $17,670 $4,230 $10,260 $20,520 $7,800 $17,500 $25,390 $3,070 $11,840 $7,540 $14,630 $8,680 $2,710 $20,590 $8,050 $11,870 $10,880 $34,770 $11,840 $8,160 $13,640 $10,560 $8,140 $5,640 $7,010 $6,070 $17,390 $10,150 $7,780 $5,920 $22,690 $24,410 $7,600 $19,650 $16,770 $9,050 $21,980 $32,510 $19,300 $18,340 $20,450 $11,600 $13,100 $40,910 $10,290 $20,270 $23,480 $11,190 $8,420 $11,780 $4,830 $9,720 $6,800 $8,680 $14,300 $13,930 $12,010 $11,950 $33,530 $10,070 $5,610 $9,040 $29,990 $16,180 $24,420 $12,350 $751 $2,620 $27,150 $15,590 $7,400 $8,460 $18,690 $2,130 $13,950 $12,700 $6,140 $16,260 $12,890 $15,580 $47,930 $20,820 $8,970 $18,290 $7,910 $12,280 $24,500 $9,460 $6,220 $19,700 $4,750 $41,840 $26,010 $3,420 $10,370 $10,120 $2,480 $7,670 $11,660 $6,210 $6,090 $5,180 $9,420 $15,310 $8,720 $8,370 $10,810 $2,380 $6,390 $7,540 $11,070 $17,640 $11,720 $11,370 $8,640 $14,840 $19,950 $26,090 $21,740 $12,200 $8,730 $14,120 $12,250 $16,680 $15,980 $10,900 $21,700 $9,050 $10,050 $16,890 $5,580 $13,200 $8,010 $5,660 $21,770 $12,430 $5,850 $5,700 $731 $29,380 $8,250 $10,510 $5,770 $24,900 $12,050 $12,000 $11,970 $3,760 $9,310 $68,460 $14,050 $10,710 $19,160 $18,990 $9,600 $3,610 $26,770 $18,800 $11,040 $23,380 $4,610 $43,400 $14,590 $12,680 $13,020 $17,860 $3,930 $7,630 $11,620 $5,910 $3,900 $18,420 $25,150 $14,000 $10,590 $5,510 $19,890 $4,450 $14,440 $27,290 $13,590 $24,030 $8,640 $11,630 $2,110 $4,950 $14,420 $7,860 $3,910 $5,770 $8,170 $19,570 $12,060 $23,980 $12,960 $9,880 $19,640 $15,620 $4,230 $17,670 $14,520 $2,430 $1,820 $11,970 $6,810 $16,650 $10,680 $13,520 $6,950 $2,190 $6,400 $15,540 $10,280 $25,290 $6,080 $7,620 $25,300 $31,470 $5,740 $10,100 $12,910 $11,520 $34,480 $14,880 $19,450 $10,270 $17,650 $15,760 $20,280 $3,160 $7,590 $1,470 $6,580 $8,290 $4,520 $3,150 $9,880 $27,770 $11,280 $19,720 $17,660 $6,970 $13,660 $14,990 $3,050 $5,800 $8,140 $10,900 $5,230 $2,670 $8,820 $14,010 $6,520 $12,630 $8,270 $33,360 $15,450 $23,760 $25,840 $1,270 $13,280 $12,010 $7,650 $5,820 $11,060 $45,240 $19,490 $6,210 $5,820 $19,870 $7,010 $5,770 $2,950 $12,290 $4,340 $2,920 $4,240 $5,360 $7,650 $12,100 $11,270 $8,290 $42,150 $7,470 $13,930 $8,160 $6,640 $14,090 $14,650 $2,760 $15,850 $23,100 $5,650 $2,960 $4,690 $331 $1,910 $8,280 $21,950 $10,880 $16,950 $11,590 $12,980 $6,830 $10,240 $11,440 $8,540 $2,330 $29,120 $2,940 $11,640 $6,440 $25,460 $11,400 $6,450 $11,740 $14,500 $20,560 $9,730 $6,060 $42,220 $4,070 $5,860 $9,070 $3,480 $17,180 $13,090 $24,120 $25,190 $11,680 $1,690 $28,080 $18,180 $4,980 $5,330 $15,760 $5,750 $23,200 $4,500 $7,830 $5,540 $5,720 $10,540 $4,280 $10,860 $26,690 $7,320 $13,040 $3,680 $4,890 $2,080 $10,350 $3,670 $5,430 $4,600 $36,130 $15,730 $10,970 $9,390 $7,290 $10,490 $13,770 $11,550 $7,310 $4,960 $30,740 $6,260 $11,050 $12,530 $3,200 $17,230 $2,920 $8,090 $1,910 $40,820 $9,550 $11,240 $13,270 $3,060 $8,630 $1,510 $27,270 $2,990 $11,140 $16,710 $13,490 $8,590 $15,820 $3,840 $15,430 $22,330 $10,090 $4,820 $11,620 $16,750 $9,850 $25,550 $16,500 $18,120 $13,770 $9,310 $7,720 $30,110 $15,100 $1,830 $18,410 $1,040 $4,730 $18,210 $12,980 $9,480 $8,850 $12,380 $14,650 $5,130 $10,730 $20,540 $6,300 $9,550 $4,740 $21,020 $39,150 $4,100 $11,860 $8,740 $5,590 $16,580 $5,130 $5,660 $16,770 $30,470 $12,580 $18,910 $28,600 $2,650 $17,440 $7,710 $28,430 $8,600 $2,540 $3,060 $8,690 $9,020 $13,740 $10,480 $13,280 $19,520 $6,440 $11,990 $4,880 $3,500 $5,940 $1,800 $10,980 $13,210 $6,890 $3,080 $6,740 $3,510 $1,510 $7,550 $13,820 $19,890 $10,910 $5,050 $9,340 $24,690 $7,840 $12,820 $4,820 $15,190 $16,220 $17,480 $6,540 $12,370 $5,550 $4,530 $4,500 $15,840 $17,340 $11,250 $9,230 $18,010 $1,120 $4,720 $24,860 $17,840 $7,940 $3,430 $12,410 $10,530 $2,620 $5,490 $2,270 $87,290 $14,610 $30,140 $3,860 $5,260 $5,420 $5,970 $13,830 $11,540 $22,780 $6,230 $19,430 $15,960 $12,990 $12,620 $19,870 $13,120 $3,160 $12,290 $4,350 $3,450 $12,640 $3,810 $8,560 $16,650 $34,980 $7,020 $3,550 $2,760 $5,760 $18,130 $13,620 $12,090 $6,410 $692 $16,370 $11,350 $6,140 $15,080 $3,950 $5,550 $4,290 $16,760 $15,510 $5,390 $10,440 $7,090 $16,920 $14,070 $11,550 $5,780 $3,330 $2,080 $3,810 $1,650 $4,460 $5,110 $2,950 $1,640 $6,560 $8,300 $9,950 $7,140 $8,000 $4,430 $6,540 $26,950 $13,130 $8,880 $7,990 $11,170 $8,410 $8,300 $118 $14,140 $22,960 $25,180 $15,500 $6,360 $5,600 $7,410 $17,470 $7,240 $1,130 $5,010 $4,160 $47,630 $20,380 $4,980 $44,240 $17,890 $8,700 $6,170 $6,360 $3,210 $11,940 $7,660 $2,680 $6,150 $8,000 $6,580 $8,420 $11,320 $1,250 $1,150 $6,270 $5,100 $3,740 $10,190 $10,290 $14,620 $2,600 $10,400 $13,030 $6,200 $8,900 $7,080 $6,190 $5,640 $19,040 $1,530 $2,500 $6,910 $1,610 $29,930 $7,660 $2,990 $11,140 $7,200 $6,300 $15,670 $11,810 $8,100 $4,490 $2,040 $16,980 $4,230 $13,110 $11,420 $3,160 $17,000 $10,060 $9,220 $1,560 $1,140 $7,070 $7,730 $15,650 $2,060 $14,290 $17,550 $5,070 $3,490 $7,840 $13,360 $2,090 $12,980 $10,050 $5,490 $18,460 $2,550 $988 $72,020 $5,990 $26,260 $10,410 $1,970 $24,770 $7,820 $6,490 $23,340 $14,040 $4,970 $4,710 $2,580 $12,400 $11,550 $4,620 $3,720 $8,870 $13,150 $14,880 $8,250 $71,650 $55 $12,170 $10,330 $8,910 $1,360 $3,920 $3,340 $5,190 $30,860 $5,890 $3,950 $11,200 $5,050 $7,860 $11,000 $8,950 $1,300 $7,120 $2,310 $1,110 $20,400 $3,420 $1,560 $8,710 $3,700 $8,410 $1,250 $7,010 $1,960 $3,810 $14,520 $16,010 $5,090 $3,250 $3,370 $3,000 $3,830 $3,030 $7,640 $4,730 $2,340 $3,510 $3,550 $13,600 $8,460 $2,110 $12,620 $7,710 $5,070 $7,680 $4,100 $2,070 $5,160 $6,160 $3,070 $15,820 $18,160 $9,580 $5,810 $14,450 $14,840 $1,400 $13,310 $2,980 $5,620 $929 $1,330 $19,020 $13,420 $7,880 $2,990 $5,430 $3,790 $39,730 $5,660 $5,410 $2,890 $8,020 $2,860 $2,530 $2,880 $5,600 $901 $9,130 $2,930 $6,260 $2,570 $2,180 $2,820 $4,230 $29,490 $2,830 $7,280 $3,450 $6,420 $11,930 $17,360 $3,670 $2,110 $1,710 $12,850 $9,420 $5,390 $2,040 $2,660 $4,370 $1,560 $1,200 $29,850 $4,710 $7,420 $9,710 $1,710 $20,640 $13,750 $7,390 $6,580 $2,430 $8,550 $1,940 $4,410 $6,840 $2,830 $6,420 $6,530 $10,190 $3,640 $2,100 $3,010 $477 $419 $5,250 $10,000 $3,860 $7,930 $41,810 $2,040 $10,050 $10,060 $9,040 $2,290 $7,390 $4,970 $5,550 $1,610 $2,000 $4,860 $10,300 $16,640 $30,770 $2,660 $1,220 $8,500 $8,480 $7,490 $5,110 $6,450 $13,540 $18,410 $8,450 $1,850 $4,720 $11,490 $2,010 $5,150 $2,170 $5,370 $4,550 $4,790 $13,020 $1,190 $2,190 $1,260 $13,050 $4,900 $3,150 $377 $1,280 $1,630 $12,610 $3,100 $4,680 $4,410 $5,500 $3,910 $3,800 $1,250 $3,230 $2,750 $1,450 $274 $7,960 $16,230 $2,740 $3,840 $7,070 $12,280 $1,130 $2,740 $7,660 $31,300 $429 $1,930 $1,160 $2,400 $2,640 $3,510 $2,010 $1,550 $20,780 $3,220 $1,710 $1,750 $6,470 $738 $7,340 $30,000 $2,040 $19,240 $3,730 $792 $2,450 $4,430 $7,300 $5,340 $4,400 $24,530 $1,220 $5,080 $2,080 $18,690 $5,760 $1,300 $2,760 $4,430 $1,520 $27,870 $5,810 $27,790 $2,420 $3,730 $8,190 $27,770 $6,360 $5,170 $17,840 $1,300 $3,770 $12,600 $8,450 $12,100 $2,310 $1,030 $6,470 $27,250 $14,950 $1,720 $9,040 $3,330 $1,200 $3,440 $967 $16,670 $9,150 $12,170 $1,490 $2,880 $12,240 $1,050 $5,650 $1,820 $13,300 $3,250 $26,140 $2,350 $9,750 $1,390 $6,270 $4,710 $2,520 $2,140 $1,190 $3,580 $398 $23,450 $13,290 $2,910 $5,040 $4,390 $8,430 $5,720 $6,040 $3,400 $17,460 $761 $24,570 $2,790 $1,690 $3,500 $3,470 $6,300 $1,180 $16,140 $1,760 $14,150 $14,640 $353 $1,600 $23,640 $2,850 $2,570 $9,320 $23,510 $7,520 $15,260 $5,110 $4,540 $8,890 $4,110 $4,000 $5,010 $1,170 $9,520 $1,040 $3,460 $2,460 $1,540 $1,120 $10,590 $5,910 $9,100 $3,290 $3,190 $164 $3,920 $9,020 $5,770 $8,960 $3,130 $15,470 $4,050 $3,560 $21,590 $863 $27 $4,320 $12,810 $20,940 $8,730 $2,130 $3,690 $7,080 $20,520 $1,580 $7,960 $4,140 $7,660 $19,260 $2,940 $8,710 $8,060 $4,890 $656 $12,920 $18,800 $13,600 $1,880 $5,610 $20,340 $4,350 $701 $1,520 $9,210 $20,250 $11,540 $20,070 $875 $4,280 $4,010 $2,140 $3,230 $15,050 $2,260 $190 $1,460 $6,520 $5,480 $19,630 $8,110 $2,310 $630 $1,420 $2,520 $8,200 $7,720 $1,780 $10,890 $3,850 $4,920 $13,710 $860 $16,070 $3,380 $1,200 $1,340 $10,180 $3,280 $1,210 $3,160 $2,460 $7,870 $806 $18,960 $7,270 $226 $667 $525 $1,850 $2,290 $583 $2,560 $14,040 $18,660 $5,420 $9,980 $18,610 $13,010 $18,580 $123 $11,580 $1,310 $726 $696 $4,670 $2,070 $1,230 $198 $1,630 $18,220 $10,030 $3,010 $11,020 $830 $18,040 $1,350 $2,340 $8,440 $8,580 $1,420 $2,190 $1,470 $4,290 $1,300 $635 $1,240 $1,440 $11,690 $11,900 $14,630 $703 $3,050 $6,830 $4,200 $1,420 $2,470 $17,640 $17,620 $1,260 $4,850 $4,970 $1,570 $7,870 $874 $2,270 $5,830 $17,360 $14,430 $4,310 $705 $17,140 $3,420 $17,120 $1,670 $4,600 $680 $1,540 $3,400 $1,880 $2,950 $1,940 $2,900 $4,580 $6,030 $16,820 $2,790 $1,350 $1,910 $825 $16,670 $652 $8,640 $2,150 $3,330 $0 $3,560 $5,630 $2,340 $6,460 $7,530 $3,650 $1,900 $4,250 $15,130 $16,440 $12,480 $700 $2,840 $2,270 $8,550 $3,700 $2,260 $2,710 $6,580 $2,540 $7,870 $8,110 $16,210 $9,330 $1,380 $1,250 $8,380 $16,130 $535 $1,320 $1,920 $10,240 $2,000 $16,080 $6,510 $5,790 $3,310 $16,040 $13,710 $11,950 $1,110 $4,200 $2,150 $2,840 $1,820 $1,790 $6,360 $8,790 $2,980 $336 $7,930 $6,030 $37 $3,520 $15,720 $4,410 $2,530 '"
      ]
     },
     "execution_count": 14,
     "metadata": {},
     "output_type": "execute_result"
    }
   ],
   "source": [
    "forbes2022['Sales'].sum()"
   ]
  },
  {
   "cell_type": "code",
   "execution_count": 15,
   "metadata": {},
   "outputs": [
    {
     "data": {
      "text/html": [
       "<div>\n",
       "<style scoped>\n",
       "    .dataframe tbody tr th:only-of-type {\n",
       "        vertical-align: middle;\n",
       "    }\n",
       "\n",
       "    .dataframe tbody tr th {\n",
       "        vertical-align: top;\n",
       "    }\n",
       "\n",
       "    .dataframe thead th {\n",
       "        text-align: right;\n",
       "    }\n",
       "</style>\n",
       "<table border=\"1\" class=\"dataframe\">\n",
       "  <thead>\n",
       "    <tr style=\"text-align: right;\">\n",
       "      <th></th>\n",
       "      <th>Rank</th>\n",
       "      <th>Company</th>\n",
       "      <th>Country</th>\n",
       "      <th>Sales</th>\n",
       "      <th>Profits</th>\n",
       "      <th>Assets</th>\n",
       "      <th>Market_value</th>\n",
       "      <th>Unnamed</th>\n",
       "    </tr>\n",
       "  </thead>\n",
       "  <tbody>\n",
       "    <tr>\n",
       "      <th>0</th>\n",
       "      <td>1</td>\n",
       "      <td>Berkshire Hathaway</td>\n",
       "      <td>United States</td>\n",
       "      <td>$276090</td>\n",
       "      <td>$89800</td>\n",
       "      <td>$958780</td>\n",
       "      <td>$741480</td>\n",
       "      <td>NaN</td>\n",
       "    </tr>\n",
       "    <tr>\n",
       "      <th>1</th>\n",
       "      <td>2</td>\n",
       "      <td>ICBC</td>\n",
       "      <td>China</td>\n",
       "      <td>$208130</td>\n",
       "      <td>$54030</td>\n",
       "      <td>$5518510</td>\n",
       "      <td>$214430</td>\n",
       "      <td>NaN</td>\n",
       "    </tr>\n",
       "    <tr>\n",
       "      <th>2</th>\n",
       "      <td>3</td>\n",
       "      <td>Saudi Arabian Oil Company (Saudi Aramco)</td>\n",
       "      <td>Saudi Arabia</td>\n",
       "      <td>$400380</td>\n",
       "      <td>$105360</td>\n",
       "      <td>$576040</td>\n",
       "      <td>$2292080</td>\n",
       "      <td>NaN</td>\n",
       "    </tr>\n",
       "    <tr>\n",
       "      <th>3</th>\n",
       "      <td>4</td>\n",
       "      <td>JPMorgan Chase</td>\n",
       "      <td>United States</td>\n",
       "      <td>$124540</td>\n",
       "      <td>$42120</td>\n",
       "      <td>$3954690</td>\n",
       "      <td>$374450</td>\n",
       "      <td>NaN</td>\n",
       "    </tr>\n",
       "    <tr>\n",
       "      <th>4</th>\n",
       "      <td>5</td>\n",
       "      <td>China Construction Bank</td>\n",
       "      <td>China</td>\n",
       "      <td>$202070</td>\n",
       "      <td>$46890</td>\n",
       "      <td>$4746950</td>\n",
       "      <td>$181320</td>\n",
       "      <td>NaN</td>\n",
       "    </tr>\n",
       "  </tbody>\n",
       "</table>\n",
       "</div>"
      ],
      "text/plain": [
       "   Rank                                   Company        Country     Sales  \\\n",
       "0     1                        Berkshire Hathaway  United States  $276090    \n",
       "1     2                                      ICBC          China  $208130    \n",
       "2     3  Saudi Arabian Oil Company (Saudi Aramco)   Saudi Arabia  $400380    \n",
       "3     4                            JPMorgan Chase  United States  $124540    \n",
       "4     5                   China Construction Bank          China  $202070    \n",
       "\n",
       "    Profits    Assets Market_value  Unnamed  \n",
       "0   $89800    $958780      $741480      NaN  \n",
       "1   $54030   $5518510      $214430      NaN  \n",
       "2  $105360    $576040     $2292080      NaN  \n",
       "3   $42120   $3954690      $374450      NaN  \n",
       "4   $46890   $4746950      $181320      NaN  "
      ]
     },
     "execution_count": 15,
     "metadata": {},
     "output_type": "execute_result"
    }
   ],
   "source": [
    "forbes2022 = forbes2022.replace(',','',regex= True) # regex: expresión regular\n",
    "forbes2022.head()"
   ]
  },
  {
   "cell_type": "code",
   "execution_count": 16,
   "metadata": {},
   "outputs": [
    {
     "data": {
      "text/html": [
       "<div>\n",
       "<style scoped>\n",
       "    .dataframe tbody tr th:only-of-type {\n",
       "        vertical-align: middle;\n",
       "    }\n",
       "\n",
       "    .dataframe tbody tr th {\n",
       "        vertical-align: top;\n",
       "    }\n",
       "\n",
       "    .dataframe thead th {\n",
       "        text-align: right;\n",
       "    }\n",
       "</style>\n",
       "<table border=\"1\" class=\"dataframe\">\n",
       "  <thead>\n",
       "    <tr style=\"text-align: right;\">\n",
       "      <th></th>\n",
       "      <th>Rank</th>\n",
       "      <th>Company</th>\n",
       "      <th>Country</th>\n",
       "      <th>Sales</th>\n",
       "      <th>Profits</th>\n",
       "      <th>Assets</th>\n",
       "      <th>Market_value</th>\n",
       "      <th>Unnamed</th>\n",
       "    </tr>\n",
       "  </thead>\n",
       "  <tbody>\n",
       "    <tr>\n",
       "      <th>0</th>\n",
       "      <td>1</td>\n",
       "      <td>Berkshire Hathaway</td>\n",
       "      <td>United States</td>\n",
       "      <td>276090</td>\n",
       "      <td>89800</td>\n",
       "      <td>958780</td>\n",
       "      <td>741480</td>\n",
       "      <td>NaN</td>\n",
       "    </tr>\n",
       "    <tr>\n",
       "      <th>1</th>\n",
       "      <td>2</td>\n",
       "      <td>ICBC</td>\n",
       "      <td>China</td>\n",
       "      <td>208130</td>\n",
       "      <td>54030</td>\n",
       "      <td>5518510</td>\n",
       "      <td>214430</td>\n",
       "      <td>NaN</td>\n",
       "    </tr>\n",
       "    <tr>\n",
       "      <th>2</th>\n",
       "      <td>3</td>\n",
       "      <td>Saudi Arabian Oil Company (Saudi Aramco)</td>\n",
       "      <td>Saudi Arabia</td>\n",
       "      <td>400380</td>\n",
       "      <td>105360</td>\n",
       "      <td>576040</td>\n",
       "      <td>2292080</td>\n",
       "      <td>NaN</td>\n",
       "    </tr>\n",
       "    <tr>\n",
       "      <th>3</th>\n",
       "      <td>4</td>\n",
       "      <td>JPMorgan Chase</td>\n",
       "      <td>United States</td>\n",
       "      <td>124540</td>\n",
       "      <td>42120</td>\n",
       "      <td>3954690</td>\n",
       "      <td>374450</td>\n",
       "      <td>NaN</td>\n",
       "    </tr>\n",
       "    <tr>\n",
       "      <th>4</th>\n",
       "      <td>5</td>\n",
       "      <td>China Construction Bank</td>\n",
       "      <td>China</td>\n",
       "      <td>202070</td>\n",
       "      <td>46890</td>\n",
       "      <td>4746950</td>\n",
       "      <td>181320</td>\n",
       "      <td>NaN</td>\n",
       "    </tr>\n",
       "  </tbody>\n",
       "</table>\n",
       "</div>"
      ],
      "text/plain": [
       "   Rank                                   Company        Country    Sales  \\\n",
       "0     1                        Berkshire Hathaway  United States  276090    \n",
       "1     2                                      ICBC          China  208130    \n",
       "2     3  Saudi Arabian Oil Company (Saudi Aramco)   Saudi Arabia  400380    \n",
       "3     4                            JPMorgan Chase  United States  124540    \n",
       "4     5                   China Construction Bank          China  202070    \n",
       "\n",
       "   Profits   Assets Market_value  Unnamed  \n",
       "0   89800    958780       741480      NaN  \n",
       "1   54030   5518510       214430      NaN  \n",
       "2  105360    576040      2292080      NaN  \n",
       "3   42120   3954690       374450      NaN  \n",
       "4   46890   4746950       181320      NaN  "
      ]
     },
     "execution_count": 16,
     "metadata": {},
     "output_type": "execute_result"
    }
   ],
   "source": [
    "forbes2022 = forbes2022.replace('\\$','', regex=True)\n",
    "forbes2022.head()"
   ]
  },
  {
   "cell_type": "code",
   "execution_count": 17,
   "metadata": {},
   "outputs": [
    {
     "data": {
      "text/plain": [
       "Rank               0\n",
       "Company            0\n",
       "Country            0\n",
       "Sales              0\n",
       "Profits            0\n",
       "Assets             0\n",
       "Market_value       0\n",
       "Unnamed         2000\n",
       "dtype: int64"
      ]
     },
     "execution_count": 17,
     "metadata": {},
     "output_type": "execute_result"
    }
   ],
   "source": [
    "forbes2022.isna().sum() #sospechoso"
   ]
  },
  {
   "cell_type": "code",
   "execution_count": 18,
   "metadata": {},
   "outputs": [
    {
     "data": {
      "text/html": [
       "<div>\n",
       "<style scoped>\n",
       "    .dataframe tbody tr th:only-of-type {\n",
       "        vertical-align: middle;\n",
       "    }\n",
       "\n",
       "    .dataframe tbody tr th {\n",
       "        vertical-align: top;\n",
       "    }\n",
       "\n",
       "    .dataframe thead th {\n",
       "        text-align: right;\n",
       "    }\n",
       "</style>\n",
       "<table border=\"1\" class=\"dataframe\">\n",
       "  <thead>\n",
       "    <tr style=\"text-align: right;\">\n",
       "      <th></th>\n",
       "      <th>Rank</th>\n",
       "      <th>Company</th>\n",
       "      <th>Country</th>\n",
       "      <th>Sales</th>\n",
       "      <th>Profits</th>\n",
       "      <th>Assets</th>\n",
       "      <th>Market_value</th>\n",
       "      <th>Unnamed</th>\n",
       "    </tr>\n",
       "  </thead>\n",
       "  <tbody>\n",
       "    <tr>\n",
       "      <th>1900</th>\n",
       "      <td>1901</td>\n",
       "      <td>Times Property Holdings</td>\n",
       "      <td>China</td>\n",
       "      <td>6830</td>\n",
       "      <td>506</td>\n",
       "      <td>31130</td>\n",
       "      <td>721</td>\n",
       "      <td>NaN</td>\n",
       "    </tr>\n",
       "    <tr>\n",
       "      <th>1901</th>\n",
       "      <td>1902</td>\n",
       "      <td>Gold Fields</td>\n",
       "      <td>South Africa</td>\n",
       "      <td>4200</td>\n",
       "      <td>789</td>\n",
       "      <td>7350</td>\n",
       "      <td>12230</td>\n",
       "      <td>NaN</td>\n",
       "    </tr>\n",
       "    <tr>\n",
       "      <th>1902</th>\n",
       "      <td>1903</td>\n",
       "      <td>Commerce Bancshares</td>\n",
       "      <td>United States</td>\n",
       "      <td>1420</td>\n",
       "      <td>514</td>\n",
       "      <td>34990</td>\n",
       "      <td>8660</td>\n",
       "      <td>NaN</td>\n",
       "    </tr>\n",
       "    <tr>\n",
       "      <th>1903</th>\n",
       "      <td>1904</td>\n",
       "      <td>TMB Bank</td>\n",
       "      <td>Thailand</td>\n",
       "      <td>2470</td>\n",
       "      <td>333</td>\n",
       "      <td>53810</td>\n",
       "      <td>3640</td>\n",
       "      <td>NaN</td>\n",
       "    </tr>\n",
       "    <tr>\n",
       "      <th>1904</th>\n",
       "      <td>1905</td>\n",
       "      <td>China Aviation Oil</td>\n",
       "      <td>Singapore</td>\n",
       "      <td>17640</td>\n",
       "      <td>40</td>\n",
       "      <td>1540</td>\n",
       "      <td>562</td>\n",
       "      <td>NaN</td>\n",
       "    </tr>\n",
       "    <tr>\n",
       "      <th>...</th>\n",
       "      <td>...</td>\n",
       "      <td>...</td>\n",
       "      <td>...</td>\n",
       "      <td>...</td>\n",
       "      <td>...</td>\n",
       "      <td>...</td>\n",
       "      <td>...</td>\n",
       "      <td>...</td>\n",
       "    </tr>\n",
       "    <tr>\n",
       "      <th>1995</th>\n",
       "      <td>1996</td>\n",
       "      <td>Shenzhen Feima International Supply Chain</td>\n",
       "      <td>China</td>\n",
       "      <td>37</td>\n",
       "      <td>1410</td>\n",
       "      <td>166</td>\n",
       "      <td>1140</td>\n",
       "      <td>NaN</td>\n",
       "    </tr>\n",
       "    <tr>\n",
       "      <th>1996</th>\n",
       "      <td>1997</td>\n",
       "      <td>NMDC</td>\n",
       "      <td>India</td>\n",
       "      <td>3520</td>\n",
       "      <td>1410</td>\n",
       "      <td>5710</td>\n",
       "      <td>6400</td>\n",
       "      <td>NaN</td>\n",
       "    </tr>\n",
       "    <tr>\n",
       "      <th>1997</th>\n",
       "      <td>1998</td>\n",
       "      <td>Sichuan Changhong Electric</td>\n",
       "      <td>China</td>\n",
       "      <td>15720</td>\n",
       "      <td>53</td>\n",
       "      <td>12110</td>\n",
       "      <td>1960</td>\n",
       "      <td>NaN</td>\n",
       "    </tr>\n",
       "    <tr>\n",
       "      <th>1998</th>\n",
       "      <td>1999</td>\n",
       "      <td>Satellite Chemical</td>\n",
       "      <td>China</td>\n",
       "      <td>4410</td>\n",
       "      <td>931</td>\n",
       "      <td>7640</td>\n",
       "      <td>9520</td>\n",
       "      <td>NaN</td>\n",
       "    </tr>\n",
       "    <tr>\n",
       "      <th>1999</th>\n",
       "      <td>2000</td>\n",
       "      <td>Credit Bank of Moscow</td>\n",
       "      <td>Russia</td>\n",
       "      <td>2530</td>\n",
       "      <td>370</td>\n",
       "      <td>45150</td>\n",
       "      <td>2060</td>\n",
       "      <td>NaN</td>\n",
       "    </tr>\n",
       "  </tbody>\n",
       "</table>\n",
       "<p>100 rows × 8 columns</p>\n",
       "</div>"
      ],
      "text/plain": [
       "      Rank                                    Company        Country   Sales  \\\n",
       "1900  1901                    Times Property Holdings          China   6830    \n",
       "1901  1902                                Gold Fields   South Africa   4200    \n",
       "1902  1903                        Commerce Bancshares  United States   1420    \n",
       "1903  1904                                   TMB Bank       Thailand   2470    \n",
       "1904  1905                         China Aviation Oil      Singapore  17640    \n",
       "...    ...                                        ...            ...     ...   \n",
       "1995  1996  Shenzhen Feima International Supply Chain          China     37    \n",
       "1996  1997                                       NMDC          India   3520    \n",
       "1997  1998                 Sichuan Changhong Electric          China  15720    \n",
       "1998  1999                         Satellite Chemical          China   4410    \n",
       "1999  2000                      Credit Bank of Moscow         Russia   2530    \n",
       "\n",
       "     Profits Assets Market_value  Unnamed  \n",
       "1900    506   31130          721      NaN  \n",
       "1901    789    7350        12230      NaN  \n",
       "1902    514   34990         8660      NaN  \n",
       "1903    333   53810         3640      NaN  \n",
       "1904     40    1540          562      NaN  \n",
       "...      ...    ...          ...      ...  \n",
       "1995   1410     166         1140      NaN  \n",
       "1996   1410    5710         6400      NaN  \n",
       "1997     53   12110         1960      NaN  \n",
       "1998    931    7640         9520      NaN  \n",
       "1999    370   45150         2060      NaN  \n",
       "\n",
       "[100 rows x 8 columns]"
      ]
     },
     "execution_count": 18,
     "metadata": {},
     "output_type": "execute_result"
    }
   ],
   "source": [
    "#Indexing and slicing\n",
    "\n",
    "#Como podemos acceder filas por registro\n",
    "\n",
    "forbes2022[:] #Todas las filas\n",
    "forbes2022[0:1]\n",
    "forbes2022[1900:]"
   ]
  },
  {
   "cell_type": "code",
   "execution_count": 19,
   "metadata": {},
   "outputs": [
    {
     "data": {
      "text/html": [
       "<div>\n",
       "<style scoped>\n",
       "    .dataframe tbody tr th:only-of-type {\n",
       "        vertical-align: middle;\n",
       "    }\n",
       "\n",
       "    .dataframe tbody tr th {\n",
       "        vertical-align: top;\n",
       "    }\n",
       "\n",
       "    .dataframe thead th {\n",
       "        text-align: right;\n",
       "    }\n",
       "</style>\n",
       "<table border=\"1\" class=\"dataframe\">\n",
       "  <thead>\n",
       "    <tr style=\"text-align: right;\">\n",
       "      <th></th>\n",
       "      <th>Company</th>\n",
       "      <th>Country</th>\n",
       "      <th>Sales</th>\n",
       "    </tr>\n",
       "  </thead>\n",
       "  <tbody>\n",
       "    <tr>\n",
       "      <th>1900</th>\n",
       "      <td>Times Property Holdings</td>\n",
       "      <td>China</td>\n",
       "      <td>6830</td>\n",
       "    </tr>\n",
       "    <tr>\n",
       "      <th>1901</th>\n",
       "      <td>Gold Fields</td>\n",
       "      <td>South Africa</td>\n",
       "      <td>4200</td>\n",
       "    </tr>\n",
       "    <tr>\n",
       "      <th>1902</th>\n",
       "      <td>Commerce Bancshares</td>\n",
       "      <td>United States</td>\n",
       "      <td>1420</td>\n",
       "    </tr>\n",
       "    <tr>\n",
       "      <th>1903</th>\n",
       "      <td>TMB Bank</td>\n",
       "      <td>Thailand</td>\n",
       "      <td>2470</td>\n",
       "    </tr>\n",
       "    <tr>\n",
       "      <th>1904</th>\n",
       "      <td>China Aviation Oil</td>\n",
       "      <td>Singapore</td>\n",
       "      <td>17640</td>\n",
       "    </tr>\n",
       "    <tr>\n",
       "      <th>...</th>\n",
       "      <td>...</td>\n",
       "      <td>...</td>\n",
       "      <td>...</td>\n",
       "    </tr>\n",
       "    <tr>\n",
       "      <th>1995</th>\n",
       "      <td>Shenzhen Feima International Supply Chain</td>\n",
       "      <td>China</td>\n",
       "      <td>37</td>\n",
       "    </tr>\n",
       "    <tr>\n",
       "      <th>1996</th>\n",
       "      <td>NMDC</td>\n",
       "      <td>India</td>\n",
       "      <td>3520</td>\n",
       "    </tr>\n",
       "    <tr>\n",
       "      <th>1997</th>\n",
       "      <td>Sichuan Changhong Electric</td>\n",
       "      <td>China</td>\n",
       "      <td>15720</td>\n",
       "    </tr>\n",
       "    <tr>\n",
       "      <th>1998</th>\n",
       "      <td>Satellite Chemical</td>\n",
       "      <td>China</td>\n",
       "      <td>4410</td>\n",
       "    </tr>\n",
       "    <tr>\n",
       "      <th>1999</th>\n",
       "      <td>Credit Bank of Moscow</td>\n",
       "      <td>Russia</td>\n",
       "      <td>2530</td>\n",
       "    </tr>\n",
       "  </tbody>\n",
       "</table>\n",
       "<p>100 rows × 3 columns</p>\n",
       "</div>"
      ],
      "text/plain": [
       "                                        Company        Country   Sales\n",
       "1900                    Times Property Holdings          China   6830 \n",
       "1901                                Gold Fields   South Africa   4200 \n",
       "1902                        Commerce Bancshares  United States   1420 \n",
       "1903                                   TMB Bank       Thailand   2470 \n",
       "1904                         China Aviation Oil      Singapore  17640 \n",
       "...                                         ...            ...     ...\n",
       "1995  Shenzhen Feima International Supply Chain          China     37 \n",
       "1996                                       NMDC          India   3520 \n",
       "1997                 Sichuan Changhong Electric          China  15720 \n",
       "1998                         Satellite Chemical          China   4410 \n",
       "1999                      Credit Bank of Moscow         Russia   2530 \n",
       "\n",
       "[100 rows x 3 columns]"
      ]
     },
     "execution_count": 19,
     "metadata": {},
     "output_type": "execute_result"
    }
   ],
   "source": [
    "#Como accerder a columnas\n",
    "forbes2022[['Country']]\n",
    "forbes2022[['Company','Country','Sales']][1900:]"
   ]
  },
  {
   "cell_type": "code",
   "execution_count": 20,
   "metadata": {},
   "outputs": [
    {
     "data": {
      "text/html": [
       "<div>\n",
       "<style scoped>\n",
       "    .dataframe tbody tr th:only-of-type {\n",
       "        vertical-align: middle;\n",
       "    }\n",
       "\n",
       "    .dataframe tbody tr th {\n",
       "        vertical-align: top;\n",
       "    }\n",
       "\n",
       "    .dataframe thead th {\n",
       "        text-align: right;\n",
       "    }\n",
       "</style>\n",
       "<table border=\"1\" class=\"dataframe\">\n",
       "  <thead>\n",
       "    <tr style=\"text-align: right;\">\n",
       "      <th></th>\n",
       "      <th>Sales</th>\n",
       "      <th>Profits</th>\n",
       "      <th>Assets</th>\n",
       "      <th>Market_value</th>\n",
       "      <th>Unnamed</th>\n",
       "    </tr>\n",
       "  </thead>\n",
       "  <tbody>\n",
       "    <tr>\n",
       "      <th>0</th>\n",
       "      <td>276090.0</td>\n",
       "      <td>89800.0</td>\n",
       "      <td>958780.0</td>\n",
       "      <td>741480.0</td>\n",
       "      <td>NaN</td>\n",
       "    </tr>\n",
       "    <tr>\n",
       "      <th>1</th>\n",
       "      <td>208130.0</td>\n",
       "      <td>54030.0</td>\n",
       "      <td>5518510.0</td>\n",
       "      <td>214430.0</td>\n",
       "      <td>NaN</td>\n",
       "    </tr>\n",
       "    <tr>\n",
       "      <th>2</th>\n",
       "      <td>400380.0</td>\n",
       "      <td>105360.0</td>\n",
       "      <td>576040.0</td>\n",
       "      <td>2292080.0</td>\n",
       "      <td>NaN</td>\n",
       "    </tr>\n",
       "    <tr>\n",
       "      <th>3</th>\n",
       "      <td>124540.0</td>\n",
       "      <td>42120.0</td>\n",
       "      <td>3954690.0</td>\n",
       "      <td>374450.0</td>\n",
       "      <td>NaN</td>\n",
       "    </tr>\n",
       "    <tr>\n",
       "      <th>4</th>\n",
       "      <td>202070.0</td>\n",
       "      <td>46890.0</td>\n",
       "      <td>4746950.0</td>\n",
       "      <td>181320.0</td>\n",
       "      <td>NaN</td>\n",
       "    </tr>\n",
       "    <tr>\n",
       "      <th>...</th>\n",
       "      <td>...</td>\n",
       "      <td>...</td>\n",
       "      <td>...</td>\n",
       "      <td>...</td>\n",
       "      <td>...</td>\n",
       "    </tr>\n",
       "    <tr>\n",
       "      <th>1995</th>\n",
       "      <td>37.0</td>\n",
       "      <td>1410.0</td>\n",
       "      <td>166.0</td>\n",
       "      <td>1140.0</td>\n",
       "      <td>NaN</td>\n",
       "    </tr>\n",
       "    <tr>\n",
       "      <th>1996</th>\n",
       "      <td>3520.0</td>\n",
       "      <td>1410.0</td>\n",
       "      <td>5710.0</td>\n",
       "      <td>6400.0</td>\n",
       "      <td>NaN</td>\n",
       "    </tr>\n",
       "    <tr>\n",
       "      <th>1997</th>\n",
       "      <td>15720.0</td>\n",
       "      <td>53.0</td>\n",
       "      <td>12110.0</td>\n",
       "      <td>1960.0</td>\n",
       "      <td>NaN</td>\n",
       "    </tr>\n",
       "    <tr>\n",
       "      <th>1998</th>\n",
       "      <td>4410.0</td>\n",
       "      <td>931.0</td>\n",
       "      <td>7640.0</td>\n",
       "      <td>9520.0</td>\n",
       "      <td>NaN</td>\n",
       "    </tr>\n",
       "    <tr>\n",
       "      <th>1999</th>\n",
       "      <td>2530.0</td>\n",
       "      <td>370.0</td>\n",
       "      <td>45150.0</td>\n",
       "      <td>2060.0</td>\n",
       "      <td>NaN</td>\n",
       "    </tr>\n",
       "  </tbody>\n",
       "</table>\n",
       "<p>2000 rows × 5 columns</p>\n",
       "</div>"
      ],
      "text/plain": [
       "         Sales   Profits     Assets  Market_value  Unnamed\n",
       "0     276090.0   89800.0   958780.0      741480.0      NaN\n",
       "1     208130.0   54030.0  5518510.0      214430.0      NaN\n",
       "2     400380.0  105360.0   576040.0     2292080.0      NaN\n",
       "3     124540.0   42120.0  3954690.0      374450.0      NaN\n",
       "4     202070.0   46890.0  4746950.0      181320.0      NaN\n",
       "...        ...       ...        ...           ...      ...\n",
       "1995      37.0    1410.0      166.0        1140.0      NaN\n",
       "1996    3520.0    1410.0     5710.0        6400.0      NaN\n",
       "1997   15720.0      53.0    12110.0        1960.0      NaN\n",
       "1998    4410.0     931.0     7640.0        9520.0      NaN\n",
       "1999    2530.0     370.0    45150.0        2060.0      NaN\n",
       "\n",
       "[2000 rows x 5 columns]"
      ]
     },
     "execution_count": 20,
     "metadata": {},
     "output_type": "execute_result"
    }
   ],
   "source": [
    "forbes2022.iloc[:,3:].astype(float)"
   ]
  },
  {
   "cell_type": "code",
   "execution_count": 21,
   "metadata": {},
   "outputs": [
    {
     "data": {
      "text/plain": [
       "Rank            False\n",
       "Company         False\n",
       "Country         False\n",
       "Sales           False\n",
       "Profits         False\n",
       "Assets          False\n",
       "Market_value    False\n",
       "Unnamed         False\n",
       "dtype: bool"
      ]
     },
     "execution_count": 21,
     "metadata": {},
     "output_type": "execute_result"
    }
   ],
   "source": [
    "#Caracter extraño\n",
    "\n",
    "forbes2022.isin(['-']).any()"
   ]
  },
  {
   "cell_type": "code",
   "execution_count": 22,
   "metadata": {},
   "outputs": [],
   "source": [
    "forbes2022['Assets'] = forbes2022['Assets'].replace('-',float('nan')) \n"
   ]
  },
  {
   "cell_type": "code",
   "execution_count": 23,
   "metadata": {},
   "outputs": [
    {
     "data": {
      "text/html": [
       "<div>\n",
       "<style scoped>\n",
       "    .dataframe tbody tr th:only-of-type {\n",
       "        vertical-align: middle;\n",
       "    }\n",
       "\n",
       "    .dataframe tbody tr th {\n",
       "        vertical-align: top;\n",
       "    }\n",
       "\n",
       "    .dataframe thead th {\n",
       "        text-align: right;\n",
       "    }\n",
       "</style>\n",
       "<table border=\"1\" class=\"dataframe\">\n",
       "  <thead>\n",
       "    <tr style=\"text-align: right;\">\n",
       "      <th></th>\n",
       "      <th>Sales</th>\n",
       "      <th>Profits</th>\n",
       "      <th>Assets</th>\n",
       "      <th>Market_value</th>\n",
       "      <th>Unnamed</th>\n",
       "    </tr>\n",
       "  </thead>\n",
       "  <tbody>\n",
       "    <tr>\n",
       "      <th>0</th>\n",
       "      <td>276090.0</td>\n",
       "      <td>89800.0</td>\n",
       "      <td>958780.0</td>\n",
       "      <td>741480.0</td>\n",
       "      <td>NaN</td>\n",
       "    </tr>\n",
       "    <tr>\n",
       "      <th>1</th>\n",
       "      <td>208130.0</td>\n",
       "      <td>54030.0</td>\n",
       "      <td>5518510.0</td>\n",
       "      <td>214430.0</td>\n",
       "      <td>NaN</td>\n",
       "    </tr>\n",
       "    <tr>\n",
       "      <th>2</th>\n",
       "      <td>400380.0</td>\n",
       "      <td>105360.0</td>\n",
       "      <td>576040.0</td>\n",
       "      <td>2292080.0</td>\n",
       "      <td>NaN</td>\n",
       "    </tr>\n",
       "    <tr>\n",
       "      <th>3</th>\n",
       "      <td>124540.0</td>\n",
       "      <td>42120.0</td>\n",
       "      <td>3954690.0</td>\n",
       "      <td>374450.0</td>\n",
       "      <td>NaN</td>\n",
       "    </tr>\n",
       "    <tr>\n",
       "      <th>4</th>\n",
       "      <td>202070.0</td>\n",
       "      <td>46890.0</td>\n",
       "      <td>4746950.0</td>\n",
       "      <td>181320.0</td>\n",
       "      <td>NaN</td>\n",
       "    </tr>\n",
       "    <tr>\n",
       "      <th>...</th>\n",
       "      <td>...</td>\n",
       "      <td>...</td>\n",
       "      <td>...</td>\n",
       "      <td>...</td>\n",
       "      <td>...</td>\n",
       "    </tr>\n",
       "    <tr>\n",
       "      <th>1995</th>\n",
       "      <td>37.0</td>\n",
       "      <td>1410.0</td>\n",
       "      <td>166.0</td>\n",
       "      <td>1140.0</td>\n",
       "      <td>NaN</td>\n",
       "    </tr>\n",
       "    <tr>\n",
       "      <th>1996</th>\n",
       "      <td>3520.0</td>\n",
       "      <td>1410.0</td>\n",
       "      <td>5710.0</td>\n",
       "      <td>6400.0</td>\n",
       "      <td>NaN</td>\n",
       "    </tr>\n",
       "    <tr>\n",
       "      <th>1997</th>\n",
       "      <td>15720.0</td>\n",
       "      <td>53.0</td>\n",
       "      <td>12110.0</td>\n",
       "      <td>1960.0</td>\n",
       "      <td>NaN</td>\n",
       "    </tr>\n",
       "    <tr>\n",
       "      <th>1998</th>\n",
       "      <td>4410.0</td>\n",
       "      <td>931.0</td>\n",
       "      <td>7640.0</td>\n",
       "      <td>9520.0</td>\n",
       "      <td>NaN</td>\n",
       "    </tr>\n",
       "    <tr>\n",
       "      <th>1999</th>\n",
       "      <td>2530.0</td>\n",
       "      <td>370.0</td>\n",
       "      <td>45150.0</td>\n",
       "      <td>2060.0</td>\n",
       "      <td>NaN</td>\n",
       "    </tr>\n",
       "  </tbody>\n",
       "</table>\n",
       "<p>2000 rows × 5 columns</p>\n",
       "</div>"
      ],
      "text/plain": [
       "         Sales   Profits     Assets  Market_value  Unnamed\n",
       "0     276090.0   89800.0   958780.0      741480.0      NaN\n",
       "1     208130.0   54030.0  5518510.0      214430.0      NaN\n",
       "2     400380.0  105360.0   576040.0     2292080.0      NaN\n",
       "3     124540.0   42120.0  3954690.0      374450.0      NaN\n",
       "4     202070.0   46890.0  4746950.0      181320.0      NaN\n",
       "...        ...       ...        ...           ...      ...\n",
       "1995      37.0    1410.0      166.0        1140.0      NaN\n",
       "1996    3520.0    1410.0     5710.0        6400.0      NaN\n",
       "1997   15720.0      53.0    12110.0        1960.0      NaN\n",
       "1998    4410.0     931.0     7640.0        9520.0      NaN\n",
       "1999    2530.0     370.0    45150.0        2060.0      NaN\n",
       "\n",
       "[2000 rows x 5 columns]"
      ]
     },
     "execution_count": 23,
     "metadata": {},
     "output_type": "execute_result"
    }
   ],
   "source": [
    "forbes2022.iloc[:,3:].astype(float)"
   ]
  },
  {
   "cell_type": "code",
   "execution_count": 24,
   "metadata": {},
   "outputs": [],
   "source": [
    "forbes2022.iloc[:,3:] = forbes2022.iloc[:,3:].astype(float)"
   ]
  },
  {
   "cell_type": "code",
   "execution_count": 25,
   "metadata": {},
   "outputs": [
    {
     "data": {
      "text/plain": [
       "5004248.0"
      ]
     },
     "execution_count": 25,
     "metadata": {},
     "output_type": "execute_result"
    }
   ],
   "source": [
    "forbes2022['Profits'].sum()"
   ]
  },
  {
   "cell_type": "code",
   "execution_count": 26,
   "metadata": {},
   "outputs": [
    {
     "data": {
      "text/plain": [
       "Rank               0\n",
       "Company            0\n",
       "Country            0\n",
       "Sales              0\n",
       "Profits            0\n",
       "Assets             0\n",
       "Market_value       0\n",
       "Unnamed         2000\n",
       "dtype: int64"
      ]
     },
     "execution_count": 26,
     "metadata": {},
     "output_type": "execute_result"
    }
   ],
   "source": [
    "forbes2022.isna().sum()"
   ]
  },
  {
   "cell_type": "code",
   "execution_count": 27,
   "metadata": {},
   "outputs": [
    {
     "data": {
      "text/plain": [
       "100.0"
      ]
     },
     "execution_count": 27,
     "metadata": {},
     "output_type": "execute_result"
    }
   ],
   "source": [
    "# ¿A qué porcentaje del total de mis datos corresponden las observaciones vacias?\n",
    "\n",
    "100*forbes2022.isna().sum().sum()/forbes2022.shape[0] # Vacios sobre numero de registros\n",
    "\n",
    "# Si los vacios representan menos del 1%, podemos proceder a eliminarlos"
   ]
  },
  {
   "cell_type": "code",
   "execution_count": 28,
   "metadata": {},
   "outputs": [],
   "source": [
    "#Dos caminos posibles: eliminar o imputar datos\n",
    "\n",
    "# Eliminación de datos\n",
    "#forbes21 = forbes21.dropna() \n",
    "#forbes21.dropna(inplace= True)"
   ]
  },
  {
   "cell_type": "code",
   "execution_count": 29,
   "metadata": {},
   "outputs": [
    {
     "data": {
      "text/plain": [
       "Country\n",
       "Argentina                 1\n",
       "Australia                30\n",
       "Austria                   9\n",
       "Bahrain                   1\n",
       "Belgium                   7\n",
       "Bermuda                   3\n",
       "Brazil                   23\n",
       "Canada                   58\n",
       "Cayman Islands            1\n",
       "Chile                     6\n",
       "China                   297\n",
       "Colombia                  3\n",
       "Czech Republic            1\n",
       "Denmark                  11\n",
       "Egypt                     1\n",
       "Finland                   9\n",
       "France                   54\n",
       "Germany                  52\n",
       "Greece                    5\n",
       "Hong Kong                54\n",
       "Hungary                   2\n",
       "India                    55\n",
       "Indonesia                 7\n",
       "Ireland                  21\n",
       "Israel                   13\n",
       "Italy                    26\n",
       "Japan                   196\n",
       "Kazakhstan                2\n",
       "Kuwait                    3\n",
       "Luxembourg                9\n",
       "Malaysia                  7\n",
       "Mexico                    9\n",
       "Morocco                   2\n",
       "Netherlands              24\n",
       "Nigeria                   1\n",
       "Norway                    8\n",
       "Peru                      1\n",
       "Philippines               5\n",
       "Poland                    8\n",
       "Portugal                  4\n",
       "Qatar                     5\n",
       "Russia                   24\n",
       "Saudi Arabia             16\n",
       "Singapore                11\n",
       "South Africa             13\n",
       "South Korea              65\n",
       "Spain                    21\n",
       "Sweden                   32\n",
       "Switzerland              40\n",
       "Taiwan                   48\n",
       "Thailand                 14\n",
       "Turkey                    9\n",
       "United Arab Emirates     13\n",
       "United Kingdom           64\n",
       "United States           590\n",
       "Uruguay                   1\n",
       "Vietnam                   5\n",
       "dtype: int64"
      ]
     },
     "execution_count": 29,
     "metadata": {},
     "output_type": "execute_result"
    }
   ],
   "source": [
    "forbes2022.groupby('Country').size()\n"
   ]
  },
  {
   "cell_type": "code",
   "execution_count": 30,
   "metadata": {},
   "outputs": [
    {
     "data": {
      "text/html": [
       "<div>\n",
       "<style scoped>\n",
       "    .dataframe tbody tr th:only-of-type {\n",
       "        vertical-align: middle;\n",
       "    }\n",
       "\n",
       "    .dataframe tbody tr th {\n",
       "        vertical-align: top;\n",
       "    }\n",
       "\n",
       "    .dataframe thead th {\n",
       "        text-align: right;\n",
       "    }\n",
       "</style>\n",
       "<table border=\"1\" class=\"dataframe\">\n",
       "  <thead>\n",
       "    <tr style=\"text-align: right;\">\n",
       "      <th></th>\n",
       "      <th>Rank</th>\n",
       "      <th>Company</th>\n",
       "      <th>Country</th>\n",
       "      <th>Sales</th>\n",
       "      <th>Profits</th>\n",
       "      <th>Assets</th>\n",
       "      <th>Market_value</th>\n",
       "      <th>Unnamed</th>\n",
       "    </tr>\n",
       "  </thead>\n",
       "  <tbody>\n",
       "    <tr>\n",
       "      <th>1195</th>\n",
       "      <td>1196</td>\n",
       "      <td>National Bank of Greece</td>\n",
       "      <td>Greece</td>\n",
       "      <td>2650.0</td>\n",
       "      <td>1020.0</td>\n",
       "      <td>95480.0</td>\n",
       "      <td>4000.0</td>\n",
       "      <td>NaN</td>\n",
       "    </tr>\n",
       "    <tr>\n",
       "      <th>1244</th>\n",
       "      <td>1245</td>\n",
       "      <td>Bank of Greece</td>\n",
       "      <td>Greece</td>\n",
       "      <td>1120.0</td>\n",
       "      <td>754.0</td>\n",
       "      <td>224160.0</td>\n",
       "      <td>385.0</td>\n",
       "      <td>NaN</td>\n",
       "    </tr>\n",
       "    <tr>\n",
       "      <th>1697</th>\n",
       "      <td>1698</td>\n",
       "      <td>Piraeus Financial Holdings</td>\n",
       "      <td>Greece</td>\n",
       "      <td>3330.0</td>\n",
       "      <td>-3560.0</td>\n",
       "      <td>90740.0</td>\n",
       "      <td>1990.0</td>\n",
       "      <td>NaN</td>\n",
       "    </tr>\n",
       "    <tr>\n",
       "      <th>1705</th>\n",
       "      <td>1706</td>\n",
       "      <td>Eurobank Ergasias</td>\n",
       "      <td>Greece</td>\n",
       "      <td>2880.0</td>\n",
       "      <td>388.0</td>\n",
       "      <td>88530.0</td>\n",
       "      <td>4280.0</td>\n",
       "      <td>NaN</td>\n",
       "    </tr>\n",
       "    <tr>\n",
       "      <th>1722</th>\n",
       "      <td>1723</td>\n",
       "      <td>Alpha Bank</td>\n",
       "      <td>Greece</td>\n",
       "      <td>398.0</td>\n",
       "      <td>-3440.0</td>\n",
       "      <td>83420.0</td>\n",
       "      <td>2980.0</td>\n",
       "      <td>NaN</td>\n",
       "    </tr>\n",
       "  </tbody>\n",
       "</table>\n",
       "</div>"
      ],
      "text/plain": [
       "      Rank                     Company Country   Sales Profits    Assets  \\\n",
       "1195  1196     National Bank of Greece  Greece  2650.0  1020.0   95480.0   \n",
       "1244  1245              Bank of Greece  Greece  1120.0   754.0  224160.0   \n",
       "1697  1698  Piraeus Financial Holdings  Greece  3330.0 -3560.0   90740.0   \n",
       "1705  1706           Eurobank Ergasias  Greece  2880.0   388.0   88530.0   \n",
       "1722  1723                  Alpha Bank  Greece   398.0 -3440.0   83420.0   \n",
       "\n",
       "     Market_value  Unnamed  \n",
       "1195       4000.0      NaN  \n",
       "1244        385.0      NaN  \n",
       "1697       1990.0      NaN  \n",
       "1705       4280.0      NaN  \n",
       "1722       2980.0      NaN  "
      ]
     },
     "execution_count": 30,
     "metadata": {},
     "output_type": "execute_result"
    }
   ],
   "source": [
    "forbes2022[\"Assets\"].fillna(forbes2022.groupby('Country')[\"Assets\"].transform(lambda x : x.mean()), inplace=True)\n",
    "forbes2022[forbes2022['Country'] == 'Greece']"
   ]
  },
  {
   "cell_type": "code",
   "execution_count": 31,
   "metadata": {},
   "outputs": [
    {
     "data": {
      "text/plain": [
       "Rank               0\n",
       "Company            0\n",
       "Country            0\n",
       "Sales              0\n",
       "Profits            0\n",
       "Assets             0\n",
       "Market_value       0\n",
       "Unnamed         2000\n",
       "dtype: int64"
      ]
     },
     "execution_count": 31,
     "metadata": {},
     "output_type": "execute_result"
    }
   ],
   "source": [
    "forbes2022.isna().sum()"
   ]
  },
  {
   "attachments": {},
   "cell_type": "markdown",
   "metadata": {},
   "source": [
    "### Análisis exploratorio de datos [EDA]\n",
    "\n",
    "De explorar y de resumir los datos para poder sacar información relevante y consistente.\n",
    "1. Métodos tabulares\n",
    "2. Métodos numéricos\n",
    "3. Análisis gráfico"
   ]
  },
  {
   "cell_type": "code",
   "execution_count": 32,
   "metadata": {},
   "outputs": [
    {
     "data": {
      "text/plain": [
       "0                          Berkshire Hathaway\n",
       "1                                        ICBC\n",
       "2    Saudi Arabian Oil Company (Saudi Aramco)\n",
       "3                              JPMorgan Chase\n",
       "4                     China Construction Bank\n",
       "Name: Company, dtype: object"
      ]
     },
     "execution_count": 32,
     "metadata": {},
     "output_type": "execute_result"
    }
   ],
   "source": [
    "forbes2022.head(n=5)['Company']\n"
   ]
  },
  {
   "cell_type": "code",
   "execution_count": 33,
   "metadata": {},
   "outputs": [
    {
     "name": "stdout",
     "output_type": "stream",
     "text": [
      "[590.0 1055.0 2270.0]\n",
      "0.25     590.0\n",
      "0.50    1055.0\n",
      "0.75    2270.0\n",
      "Name: Profits, dtype: object\n"
     ]
    }
   ],
   "source": [
    "\n",
    "#Percentiles\n",
    "\n",
    "print(np.percentile(forbes2022['Profits'],[25,50,75]))\n",
    "\n",
    "print(forbes2022['Profits'].quantile([0.25,0.5,0.75]))\n"
   ]
  },
  {
   "cell_type": "code",
   "execution_count": 34,
   "metadata": {},
   "outputs": [
    {
     "name": "stdout",
     "output_type": "stream",
     "text": [
      "23635.099999999995\n"
     ]
    }
   ],
   "source": [
    "# Valorar el 1% de las empresas con mas ganancias en el mundo\n",
    "\n",
    "p99p = np.percentile(forbes2022['Profits'],99)\n",
    "print(p99p)"
   ]
  },
  {
   "cell_type": "code",
   "execution_count": 35,
   "metadata": {},
   "outputs": [
    {
     "data": {
      "text/html": [
       "<div>\n",
       "<style scoped>\n",
       "    .dataframe tbody tr th:only-of-type {\n",
       "        vertical-align: middle;\n",
       "    }\n",
       "\n",
       "    .dataframe tbody tr th {\n",
       "        vertical-align: top;\n",
       "    }\n",
       "\n",
       "    .dataframe thead th {\n",
       "        text-align: right;\n",
       "    }\n",
       "</style>\n",
       "<table border=\"1\" class=\"dataframe\">\n",
       "  <thead>\n",
       "    <tr style=\"text-align: right;\">\n",
       "      <th></th>\n",
       "      <th>Company</th>\n",
       "      <th>Country</th>\n",
       "      <th>Profits</th>\n",
       "    </tr>\n",
       "  </thead>\n",
       "  <tbody>\n",
       "    <tr>\n",
       "      <th>0</th>\n",
       "      <td>Berkshire Hathaway</td>\n",
       "      <td>United States</td>\n",
       "      <td>89800.0</td>\n",
       "    </tr>\n",
       "    <tr>\n",
       "      <th>1</th>\n",
       "      <td>ICBC</td>\n",
       "      <td>China</td>\n",
       "      <td>54030.0</td>\n",
       "    </tr>\n",
       "    <tr>\n",
       "      <th>2</th>\n",
       "      <td>Saudi Arabian Oil Company (Saudi Aramco)</td>\n",
       "      <td>Saudi Arabia</td>\n",
       "      <td>105360.0</td>\n",
       "    </tr>\n",
       "    <tr>\n",
       "      <th>3</th>\n",
       "      <td>JPMorgan Chase</td>\n",
       "      <td>United States</td>\n",
       "      <td>42120.0</td>\n",
       "    </tr>\n",
       "    <tr>\n",
       "      <th>4</th>\n",
       "      <td>China Construction Bank</td>\n",
       "      <td>China</td>\n",
       "      <td>46890.0</td>\n",
       "    </tr>\n",
       "    <tr>\n",
       "      <th>5</th>\n",
       "      <td>Amazon</td>\n",
       "      <td>United States</td>\n",
       "      <td>33360.0</td>\n",
       "    </tr>\n",
       "    <tr>\n",
       "      <th>6</th>\n",
       "      <td>Apple</td>\n",
       "      <td>United States</td>\n",
       "      <td>100560.0</td>\n",
       "    </tr>\n",
       "    <tr>\n",
       "      <th>7</th>\n",
       "      <td>Agricultural Bank of China</td>\n",
       "      <td>China</td>\n",
       "      <td>37380.0</td>\n",
       "    </tr>\n",
       "    <tr>\n",
       "      <th>8</th>\n",
       "      <td>Bank of America</td>\n",
       "      <td>United States</td>\n",
       "      <td>31000.0</td>\n",
       "    </tr>\n",
       "    <tr>\n",
       "      <th>9</th>\n",
       "      <td>Toyota Motor</td>\n",
       "      <td>Japan</td>\n",
       "      <td>28150.0</td>\n",
       "    </tr>\n",
       "    <tr>\n",
       "      <th>10</th>\n",
       "      <td>Alphabet</td>\n",
       "      <td>United States</td>\n",
       "      <td>76030.0</td>\n",
       "    </tr>\n",
       "    <tr>\n",
       "      <th>11</th>\n",
       "      <td>Microsoft</td>\n",
       "      <td>United States</td>\n",
       "      <td>71190.0</td>\n",
       "    </tr>\n",
       "    <tr>\n",
       "      <th>12</th>\n",
       "      <td>Bank of China</td>\n",
       "      <td>China</td>\n",
       "      <td>33570.0</td>\n",
       "    </tr>\n",
       "    <tr>\n",
       "      <th>13</th>\n",
       "      <td>Samsung Group</td>\n",
       "      <td>South Korea</td>\n",
       "      <td>34270.0</td>\n",
       "    </tr>\n",
       "    <tr>\n",
       "      <th>27</th>\n",
       "      <td>Tencent Holdings</td>\n",
       "      <td>China</td>\n",
       "      <td>34940.0</td>\n",
       "    </tr>\n",
       "    <tr>\n",
       "      <th>33</th>\n",
       "      <td>Meta Platforms</td>\n",
       "      <td>United States</td>\n",
       "      <td>39370.0</td>\n",
       "    </tr>\n",
       "    <tr>\n",
       "      <th>40</th>\n",
       "      <td>Mercedes-Benz Group</td>\n",
       "      <td>Germany</td>\n",
       "      <td>27190.0</td>\n",
       "    </tr>\n",
       "    <tr>\n",
       "      <th>48</th>\n",
       "      <td>Gazprom</td>\n",
       "      <td>Russia</td>\n",
       "      <td>25440.0</td>\n",
       "    </tr>\n",
       "    <tr>\n",
       "      <th>67</th>\n",
       "      <td>Novartis</td>\n",
       "      <td>Switzerland</td>\n",
       "      <td>24140.0</td>\n",
       "    </tr>\n",
       "    <tr>\n",
       "      <th>586</th>\n",
       "      <td>Vivendi</td>\n",
       "      <td>France</td>\n",
       "      <td>29190.0</td>\n",
       "    </tr>\n",
       "  </tbody>\n",
       "</table>\n",
       "</div>"
      ],
      "text/plain": [
       "                                      Company        Country   Profits\n",
       "0                          Berkshire Hathaway  United States   89800.0\n",
       "1                                        ICBC          China   54030.0\n",
       "2    Saudi Arabian Oil Company (Saudi Aramco)   Saudi Arabia  105360.0\n",
       "3                              JPMorgan Chase  United States   42120.0\n",
       "4                     China Construction Bank          China   46890.0\n",
       "5                                      Amazon  United States   33360.0\n",
       "6                                       Apple  United States  100560.0\n",
       "7                  Agricultural Bank of China          China   37380.0\n",
       "8                             Bank of America  United States   31000.0\n",
       "9                                Toyota Motor          Japan   28150.0\n",
       "10                                   Alphabet  United States   76030.0\n",
       "11                                  Microsoft  United States   71190.0\n",
       "12                              Bank of China          China   33570.0\n",
       "13                              Samsung Group    South Korea   34270.0\n",
       "27                           Tencent Holdings          China   34940.0\n",
       "33                             Meta Platforms  United States   39370.0\n",
       "40                        Mercedes-Benz Group        Germany   27190.0\n",
       "48                                    Gazprom         Russia   25440.0\n",
       "67                                   Novartis    Switzerland   24140.0\n",
       "586                                   Vivendi         France   29190.0"
      ]
     },
     "execution_count": 35,
     "metadata": {},
     "output_type": "execute_result"
    }
   ],
   "source": [
    "# Filtrar de mi DF usando la condición de 'Profits' >  p99p\n",
    "\n",
    "forbes2022[forbes2022['Profits'] > p99p][['Company','Country','Profits']]"
   ]
  },
  {
   "cell_type": "code",
   "execution_count": 36,
   "metadata": {},
   "outputs": [
    {
     "name": "stdout",
     "output_type": "stream",
     "text": [
      "346929.2999999999\n"
     ]
    }
   ],
   "source": [
    "# 1% de las empresas con mayor valor del mercado\n",
    "\n",
    "p99mv = forbes2022['Market_value'].quantile(0.99)\n",
    "print(p99mv)"
   ]
  },
  {
   "cell_type": "code",
   "execution_count": 37,
   "metadata": {},
   "outputs": [
    {
     "data": {
      "text/html": [
       "<div>\n",
       "<style scoped>\n",
       "    .dataframe tbody tr th:only-of-type {\n",
       "        vertical-align: middle;\n",
       "    }\n",
       "\n",
       "    .dataframe tbody tr th {\n",
       "        vertical-align: top;\n",
       "    }\n",
       "\n",
       "    .dataframe thead th {\n",
       "        text-align: right;\n",
       "    }\n",
       "</style>\n",
       "<table border=\"1\" class=\"dataframe\">\n",
       "  <thead>\n",
       "    <tr style=\"text-align: right;\">\n",
       "      <th></th>\n",
       "      <th>Company</th>\n",
       "      <th>Country</th>\n",
       "      <th>Market_value</th>\n",
       "    </tr>\n",
       "  </thead>\n",
       "  <tbody>\n",
       "    <tr>\n",
       "      <th>0</th>\n",
       "      <td>Berkshire Hathaway</td>\n",
       "      <td>United States</td>\n",
       "      <td>741480.0</td>\n",
       "    </tr>\n",
       "    <tr>\n",
       "      <th>2</th>\n",
       "      <td>Saudi Arabian Oil Company (Saudi Aramco)</td>\n",
       "      <td>Saudi Arabia</td>\n",
       "      <td>2292080.0</td>\n",
       "    </tr>\n",
       "    <tr>\n",
       "      <th>3</th>\n",
       "      <td>JPMorgan Chase</td>\n",
       "      <td>United States</td>\n",
       "      <td>374450.0</td>\n",
       "    </tr>\n",
       "    <tr>\n",
       "      <th>5</th>\n",
       "      <td>Amazon</td>\n",
       "      <td>United States</td>\n",
       "      <td>1468400.0</td>\n",
       "    </tr>\n",
       "    <tr>\n",
       "      <th>6</th>\n",
       "      <td>Apple</td>\n",
       "      <td>United States</td>\n",
       "      <td>2640320.0</td>\n",
       "    </tr>\n",
       "    <tr>\n",
       "      <th>10</th>\n",
       "      <td>Alphabet</td>\n",
       "      <td>United States</td>\n",
       "      <td>1581720.0</td>\n",
       "    </tr>\n",
       "    <tr>\n",
       "      <th>11</th>\n",
       "      <td>Microsoft</td>\n",
       "      <td>United States</td>\n",
       "      <td>2054370.0</td>\n",
       "    </tr>\n",
       "    <tr>\n",
       "      <th>13</th>\n",
       "      <td>Samsung Group</td>\n",
       "      <td>South Korea</td>\n",
       "      <td>367260.0</td>\n",
       "    </tr>\n",
       "    <tr>\n",
       "      <th>14</th>\n",
       "      <td>ExxonMobil</td>\n",
       "      <td>United States</td>\n",
       "      <td>359730.0</td>\n",
       "    </tr>\n",
       "    <tr>\n",
       "      <th>21</th>\n",
       "      <td>UnitedHealth Group</td>\n",
       "      <td>United States</td>\n",
       "      <td>490150.0</td>\n",
       "    </tr>\n",
       "    <tr>\n",
       "      <th>22</th>\n",
       "      <td>Walmart</td>\n",
       "      <td>United States</td>\n",
       "      <td>431640.0</td>\n",
       "    </tr>\n",
       "    <tr>\n",
       "      <th>27</th>\n",
       "      <td>Tencent Holdings</td>\n",
       "      <td>China</td>\n",
       "      <td>414280.0</td>\n",
       "    </tr>\n",
       "    <tr>\n",
       "      <th>33</th>\n",
       "      <td>Meta Platforms</td>\n",
       "      <td>United States</td>\n",
       "      <td>499860.0</td>\n",
       "    </tr>\n",
       "    <tr>\n",
       "      <th>39</th>\n",
       "      <td>Johnson &amp; Johnson</td>\n",
       "      <td>United States</td>\n",
       "      <td>477380.0</td>\n",
       "    </tr>\n",
       "    <tr>\n",
       "      <th>45</th>\n",
       "      <td>NestlÃ©</td>\n",
       "      <td>Switzerland</td>\n",
       "      <td>360010.0</td>\n",
       "    </tr>\n",
       "    <tr>\n",
       "      <th>57</th>\n",
       "      <td>Taiwan Semiconductor</td>\n",
       "      <td>Taiwan</td>\n",
       "      <td>494600.0</td>\n",
       "    </tr>\n",
       "    <tr>\n",
       "      <th>62</th>\n",
       "      <td>Procter &amp; Gamble</td>\n",
       "      <td>United States</td>\n",
       "      <td>386530.0</td>\n",
       "    </tr>\n",
       "    <tr>\n",
       "      <th>147</th>\n",
       "      <td>Visa</td>\n",
       "      <td>United States</td>\n",
       "      <td>436490.0</td>\n",
       "    </tr>\n",
       "    <tr>\n",
       "      <th>150</th>\n",
       "      <td>Tesla</td>\n",
       "      <td>United States</td>\n",
       "      <td>1038730.0</td>\n",
       "    </tr>\n",
       "    <tr>\n",
       "      <th>208</th>\n",
       "      <td>NVIDIA</td>\n",
       "      <td>United States</td>\n",
       "      <td>489830.0</td>\n",
       "    </tr>\n",
       "  </tbody>\n",
       "</table>\n",
       "</div>"
      ],
      "text/plain": [
       "                                      Company        Country Market_value\n",
       "0                          Berkshire Hathaway  United States     741480.0\n",
       "2    Saudi Arabian Oil Company (Saudi Aramco)   Saudi Arabia    2292080.0\n",
       "3                              JPMorgan Chase  United States     374450.0\n",
       "5                                      Amazon  United States    1468400.0\n",
       "6                                       Apple  United States    2640320.0\n",
       "10                                   Alphabet  United States    1581720.0\n",
       "11                                  Microsoft  United States    2054370.0\n",
       "13                              Samsung Group    South Korea     367260.0\n",
       "14                                 ExxonMobil  United States     359730.0\n",
       "21                         UnitedHealth Group  United States     490150.0\n",
       "22                                    Walmart  United States     431640.0\n",
       "27                           Tencent Holdings          China     414280.0\n",
       "33                             Meta Platforms  United States     499860.0\n",
       "39                          Johnson & Johnson  United States     477380.0\n",
       "45                                    NestlÃ©    Switzerland     360010.0\n",
       "57                       Taiwan Semiconductor         Taiwan     494600.0\n",
       "62                           Procter & Gamble  United States     386530.0\n",
       "147                                      Visa  United States     436490.0\n",
       "150                                     Tesla  United States    1038730.0\n",
       "208                                    NVIDIA  United States     489830.0"
      ]
     },
     "execution_count": 37,
     "metadata": {},
     "output_type": "execute_result"
    }
   ],
   "source": [
    "forbes2022[forbes2022['Market_value']>p99mv][['Company','Country','Market_value']]\n"
   ]
  },
  {
   "cell_type": "code",
   "execution_count": 38,
   "metadata": {},
   "outputs": [
    {
     "data": {
      "text/html": [
       "<div>\n",
       "<style scoped>\n",
       "    .dataframe tbody tr th:only-of-type {\n",
       "        vertical-align: middle;\n",
       "    }\n",
       "\n",
       "    .dataframe tbody tr th {\n",
       "        vertical-align: top;\n",
       "    }\n",
       "\n",
       "    .dataframe thead th {\n",
       "        text-align: right;\n",
       "    }\n",
       "</style>\n",
       "<table border=\"1\" class=\"dataframe\">\n",
       "  <thead>\n",
       "    <tr style=\"text-align: right;\">\n",
       "      <th></th>\n",
       "      <th>Company</th>\n",
       "      <th>Country</th>\n",
       "      <th>Market_value</th>\n",
       "      <th>Profits</th>\n",
       "    </tr>\n",
       "  </thead>\n",
       "  <tbody>\n",
       "    <tr>\n",
       "      <th>0</th>\n",
       "      <td>Berkshire Hathaway</td>\n",
       "      <td>United States</td>\n",
       "      <td>741480.0</td>\n",
       "      <td>89800.0</td>\n",
       "    </tr>\n",
       "    <tr>\n",
       "      <th>2</th>\n",
       "      <td>Saudi Arabian Oil Company (Saudi Aramco)</td>\n",
       "      <td>Saudi Arabia</td>\n",
       "      <td>2292080.0</td>\n",
       "      <td>105360.0</td>\n",
       "    </tr>\n",
       "    <tr>\n",
       "      <th>3</th>\n",
       "      <td>JPMorgan Chase</td>\n",
       "      <td>United States</td>\n",
       "      <td>374450.0</td>\n",
       "      <td>42120.0</td>\n",
       "    </tr>\n",
       "    <tr>\n",
       "      <th>5</th>\n",
       "      <td>Amazon</td>\n",
       "      <td>United States</td>\n",
       "      <td>1468400.0</td>\n",
       "      <td>33360.0</td>\n",
       "    </tr>\n",
       "    <tr>\n",
       "      <th>6</th>\n",
       "      <td>Apple</td>\n",
       "      <td>United States</td>\n",
       "      <td>2640320.0</td>\n",
       "      <td>100560.0</td>\n",
       "    </tr>\n",
       "    <tr>\n",
       "      <th>10</th>\n",
       "      <td>Alphabet</td>\n",
       "      <td>United States</td>\n",
       "      <td>1581720.0</td>\n",
       "      <td>76030.0</td>\n",
       "    </tr>\n",
       "    <tr>\n",
       "      <th>11</th>\n",
       "      <td>Microsoft</td>\n",
       "      <td>United States</td>\n",
       "      <td>2054370.0</td>\n",
       "      <td>71190.0</td>\n",
       "    </tr>\n",
       "    <tr>\n",
       "      <th>13</th>\n",
       "      <td>Samsung Group</td>\n",
       "      <td>South Korea</td>\n",
       "      <td>367260.0</td>\n",
       "      <td>34270.0</td>\n",
       "    </tr>\n",
       "    <tr>\n",
       "      <th>27</th>\n",
       "      <td>Tencent Holdings</td>\n",
       "      <td>China</td>\n",
       "      <td>414280.0</td>\n",
       "      <td>34940.0</td>\n",
       "    </tr>\n",
       "    <tr>\n",
       "      <th>33</th>\n",
       "      <td>Meta Platforms</td>\n",
       "      <td>United States</td>\n",
       "      <td>499860.0</td>\n",
       "      <td>39370.0</td>\n",
       "    </tr>\n",
       "  </tbody>\n",
       "</table>\n",
       "</div>"
      ],
      "text/plain": [
       "                                     Company        Country Market_value  \\\n",
       "0                         Berkshire Hathaway  United States     741480.0   \n",
       "2   Saudi Arabian Oil Company (Saudi Aramco)   Saudi Arabia    2292080.0   \n",
       "3                             JPMorgan Chase  United States     374450.0   \n",
       "5                                     Amazon  United States    1468400.0   \n",
       "6                                      Apple  United States    2640320.0   \n",
       "10                                  Alphabet  United States    1581720.0   \n",
       "11                                 Microsoft  United States    2054370.0   \n",
       "13                             Samsung Group    South Korea     367260.0   \n",
       "27                          Tencent Holdings          China     414280.0   \n",
       "33                            Meta Platforms  United States     499860.0   \n",
       "\n",
       "     Profits  \n",
       "0    89800.0  \n",
       "2   105360.0  \n",
       "3    42120.0  \n",
       "5    33360.0  \n",
       "6   100560.0  \n",
       "10   76030.0  \n",
       "11   71190.0  \n",
       "13   34270.0  \n",
       "27   34940.0  \n",
       "33   39370.0  "
      ]
     },
     "execution_count": 38,
     "metadata": {},
     "output_type": "execute_result"
    }
   ],
   "source": [
    "# Del 1% mas alto en valor de mercado, cuáles están en el 1% con mas ganancias\n",
    "# Operadores lógicos: y &, o |\n",
    "\n",
    "forbes2022[(forbes2022['Market_value']>p99mv) & (forbes2022['Profits']>p99p)][['Company','Country','Market_value','Profits']]"
   ]
  },
  {
   "cell_type": "code",
   "execution_count": 39,
   "metadata": {},
   "outputs": [
    {
     "data": {
      "text/html": [
       "<div>\n",
       "<style scoped>\n",
       "    .dataframe tbody tr th:only-of-type {\n",
       "        vertical-align: middle;\n",
       "    }\n",
       "\n",
       "    .dataframe tbody tr th {\n",
       "        vertical-align: top;\n",
       "    }\n",
       "\n",
       "    .dataframe thead th {\n",
       "        text-align: right;\n",
       "    }\n",
       "</style>\n",
       "<table border=\"1\" class=\"dataframe\">\n",
       "  <thead>\n",
       "    <tr style=\"text-align: right;\">\n",
       "      <th></th>\n",
       "      <th>Rank</th>\n",
       "      <th>Company</th>\n",
       "      <th>Country</th>\n",
       "      <th>Sales</th>\n",
       "      <th>Profits</th>\n",
       "      <th>Assets</th>\n",
       "      <th>Market_value</th>\n",
       "      <th>Unnamed</th>\n",
       "    </tr>\n",
       "  </thead>\n",
       "  <tbody>\n",
       "    <tr>\n",
       "      <th>294</th>\n",
       "      <td>295</td>\n",
       "      <td>Ecopetrol</td>\n",
       "      <td>Colombia</td>\n",
       "      <td>23430.0</td>\n",
       "      <td>4450.0</td>\n",
       "      <td>60010.0</td>\n",
       "      <td>36070.0</td>\n",
       "      <td>NaN</td>\n",
       "    </tr>\n",
       "    <tr>\n",
       "      <th>975</th>\n",
       "      <td>976</td>\n",
       "      <td>Bancolombia</td>\n",
       "      <td>Colombia</td>\n",
       "      <td>6080.0</td>\n",
       "      <td>1090.0</td>\n",
       "      <td>71220.0</td>\n",
       "      <td>10890.0</td>\n",
       "      <td>NaN</td>\n",
       "    </tr>\n",
       "    <tr>\n",
       "      <th>986</th>\n",
       "      <td>987</td>\n",
       "      <td>Grupo Aval</td>\n",
       "      <td>Colombia</td>\n",
       "      <td>10270.0</td>\n",
       "      <td>880.0</td>\n",
       "      <td>90150.0</td>\n",
       "      <td>4780.0</td>\n",
       "      <td>NaN</td>\n",
       "    </tr>\n",
       "  </tbody>\n",
       "</table>\n",
       "</div>"
      ],
      "text/plain": [
       "     Rank      Company   Country    Sales Profits   Assets Market_value  \\\n",
       "294   295    Ecopetrol  Colombia  23430.0  4450.0  60010.0      36070.0   \n",
       "975   976  Bancolombia  Colombia   6080.0  1090.0  71220.0      10890.0   \n",
       "986   987   Grupo Aval  Colombia  10270.0   880.0  90150.0       4780.0   \n",
       "\n",
       "     Unnamed  \n",
       "294      NaN  \n",
       "975      NaN  \n",
       "986      NaN  "
      ]
     },
     "execution_count": 39,
     "metadata": {},
     "output_type": "execute_result"
    }
   ],
   "source": [
    "forbes2022[(forbes2022['Country']== 'Colombia') & (forbes2022['Profits']> 500)]\n"
   ]
  },
  {
   "cell_type": "code",
   "execution_count": 40,
   "metadata": {},
   "outputs": [
    {
     "data": {
      "text/html": [
       "<div>\n",
       "<style scoped>\n",
       "    .dataframe tbody tr th:only-of-type {\n",
       "        vertical-align: middle;\n",
       "    }\n",
       "\n",
       "    .dataframe tbody tr th {\n",
       "        vertical-align: top;\n",
       "    }\n",
       "\n",
       "    .dataframe thead th {\n",
       "        text-align: right;\n",
       "    }\n",
       "</style>\n",
       "<table border=\"1\" class=\"dataframe\">\n",
       "  <thead>\n",
       "    <tr style=\"text-align: right;\">\n",
       "      <th></th>\n",
       "      <th>Rank</th>\n",
       "      <th>Company</th>\n",
       "      <th>Country</th>\n",
       "      <th>Sales</th>\n",
       "      <th>Profits</th>\n",
       "      <th>Assets</th>\n",
       "      <th>Market_value</th>\n",
       "      <th>Unnamed</th>\n",
       "    </tr>\n",
       "  </thead>\n",
       "  <tbody>\n",
       "    <tr>\n",
       "      <th>1608</th>\n",
       "      <td>1609</td>\n",
       "      <td>YPF</td>\n",
       "      <td>Argentina</td>\n",
       "      <td>13020.0</td>\n",
       "      <td>3.0</td>\n",
       "      <td>23270.0</td>\n",
       "      <td>3310.0</td>\n",
       "      <td>NaN</td>\n",
       "    </tr>\n",
       "  </tbody>\n",
       "</table>\n",
       "</div>"
      ],
      "text/plain": [
       "      Rank Company    Country    Sales Profits   Assets Market_value  Unnamed\n",
       "1608  1609     YPF  Argentina  13020.0     3.0  23270.0       3310.0      NaN"
      ]
     },
     "execution_count": 40,
     "metadata": {},
     "output_type": "execute_result"
    }
   ],
   "source": [
    "forbes2022[(forbes2022['Country']== 'Argentina')]\n"
   ]
  },
  {
   "cell_type": "code",
   "execution_count": 41,
   "metadata": {},
   "outputs": [
    {
     "data": {
      "text/plain": [
       "Country\n",
       "United States     29.50\n",
       "China             14.85\n",
       "Japan              9.80\n",
       "South Korea        3.25\n",
       "United Kingdom     3.20\n",
       "Canada             2.90\n",
       "India              2.75\n",
       "France             2.70\n",
       "Hong Kong          2.70\n",
       "Germany            2.60\n",
       "Name: count, dtype: float64"
      ]
     },
     "execution_count": 41,
     "metadata": {},
     "output_type": "execute_result"
    }
   ],
   "source": [
    "# Tablas de frecuencia\n",
    "\n",
    "table_country = 100*forbes2022['Country'].value_counts()/forbes2022['Country'].count()\n",
    "table_country.head(10)"
   ]
  },
  {
   "cell_type": "code",
   "execution_count": 42,
   "metadata": {},
   "outputs": [
    {
     "name": "stdout",
     "output_type": "stream",
     "text": [
      "0    0\n",
      "1    1\n",
      "2    2\n",
      "3    3\n",
      "4    4\n",
      "5    5\n",
      "6    6\n",
      "7    7\n",
      "8    8\n",
      "9    9\n",
      "dtype: int64\n",
      "[5, 6, 12]\n"
     ]
    }
   ],
   "source": [
    "ejemplo = list(range(10))\n",
    "ejemplo = pd.Series(ejemplo)\n",
    "comparar = [5,6,12]\n",
    "print(ejemplo)\n",
    "print(comparar)"
   ]
  },
  {
   "cell_type": "code",
   "execution_count": 43,
   "metadata": {},
   "outputs": [
    {
     "data": {
      "text/plain": [
       "0    False\n",
       "1    False\n",
       "2    False\n",
       "3    False\n",
       "4    False\n",
       "5     True\n",
       "6     True\n",
       "7    False\n",
       "8    False\n",
       "9    False\n",
       "dtype: bool"
      ]
     },
     "execution_count": 43,
     "metadata": {},
     "output_type": "execute_result"
    }
   ],
   "source": [
    "#Comparadores lógicos: ==, !=, >, <, isin\n",
    "#Operadores lógicos: & |\n",
    "\n",
    "ejemplo.isin(comparar) "
   ]
  },
  {
   "cell_type": "code",
   "execution_count": 44,
   "metadata": {},
   "outputs": [],
   "source": [
    "suda = ['Argentina','Bolivia','Brazil','Chile','Colombia','Ecuador','Paraguay','Peru','Uruguay','Venezuela']\n"
   ]
  },
  {
   "cell_type": "code",
   "execution_count": 45,
   "metadata": {},
   "outputs": [],
   "source": [
    "f_suda = forbes2022[forbes2022['Country'].isin(suda)]\n"
   ]
  },
  {
   "cell_type": "code",
   "execution_count": 46,
   "metadata": {},
   "outputs": [],
   "source": [
    "EUROPE = ['Albania', 'Germany', 'Andorra', 'Armenia', 'Austria', 'Azerbaijan', 'Belgium', 'Belarus', 'Bosnia and Herzegovina', 'Bulgaria', 'Cyprus', 'Croatia', 'Denmark', 'Slovakia', 'Slovenia', 'Spain', 'Estonia', 'Finland', 'France', 'Georgia', 'Greece', 'Hungary', 'Ireland', 'Iceland', 'Italy', 'Kazakhstan', 'Kosovo', 'Latvia', 'Liechtenstein', 'Lithuania', 'Luxembourg', 'North Macedonia', 'Malta', 'Moldova', 'Monaco', 'Montenegro', 'Norway', 'Netherlands', 'Poland', 'Portugal', 'United Kingdom', 'Czech Republic', 'Romania', 'Russia', 'San Marino', 'Serbia', 'Sweden', 'Switzerland', 'Ukraine', 'Vatican City']\n"
   ]
  },
  {
   "cell_type": "code",
   "execution_count": 47,
   "metadata": {},
   "outputs": [],
   "source": [
    "f_europe = forbes2022[forbes2022['Country'].isin(EUROPE)]\n"
   ]
  },
  {
   "cell_type": "code",
   "execution_count": 48,
   "metadata": {},
   "outputs": [
    {
     "data": {
      "text/plain": [
       "Country\n",
       "United Kingdom    64\n",
       "France            54\n",
       "Germany           52\n",
       "Switzerland       40\n",
       "Sweden            32\n",
       "Italy             26\n",
       "Russia            24\n",
       "Netherlands       24\n",
       "Ireland           21\n",
       "Spain             21\n",
       "Denmark           11\n",
       "Luxembourg         9\n",
       "Finland            9\n",
       "Austria            9\n",
       "Norway             8\n",
       "Poland             8\n",
       "Belgium            7\n",
       "Greece             5\n",
       "Portugal           4\n",
       "Hungary            2\n",
       "Kazakhstan         2\n",
       "Czech Republic     1\n",
       "Name: count, dtype: int64"
      ]
     },
     "execution_count": 48,
     "metadata": {},
     "output_type": "execute_result"
    }
   ],
   "source": [
    "f_europe['Country'].value_counts()\n"
   ]
  },
  {
   "cell_type": "code",
   "execution_count": 49,
   "metadata": {},
   "outputs": [
    {
     "data": {
      "text/plain": [
       "Country\n",
       "Brazil       23\n",
       "Chile         6\n",
       "Colombia      3\n",
       "Peru          1\n",
       "Uruguay       1\n",
       "Argentina     1\n",
       "Name: count, dtype: int64"
      ]
     },
     "execution_count": 49,
     "metadata": {},
     "output_type": "execute_result"
    }
   ],
   "source": [
    "f_suda['Country'].value_counts()\n"
   ]
  },
  {
   "cell_type": "code",
   "execution_count": 50,
   "metadata": {},
   "outputs": [
    {
     "name": "stdout",
     "output_type": "stream",
     "text": [
      "Media de ventas: 23876.035\n",
      "Media de ventas en empresas sudamericanas: 17026.285714285714\n",
      "Media de ventas en empresas europa: 25569.189376443417\n"
     ]
    }
   ],
   "source": [
    "# Métodos numéricos\n",
    "\n",
    "# Medidas de centralidad: media\n",
    "\n",
    "print('Media de ventas:', np.mean(forbes2022['Sales']))\n",
    "print('Media de ventas en empresas sudamericanas:',np.mean(f_suda['Sales']))\n",
    "print('Media de ventas en empresas europa:',np.mean(f_europe['Sales']))"
   ]
  },
  {
   "cell_type": "code",
   "execution_count": 51,
   "metadata": {},
   "outputs": [
    {
     "name": "stdout",
     "output_type": "stream",
     "text": [
      "Mediana de ventas: 12170.0\n",
      "Mediana de ventas en empresas sudamericanas: 10270.0\n",
      "Mediana de ventas en empresas europa: 14140.0\n"
     ]
    }
   ],
   "source": [
    "# Medidas de centralidad: mediana\n",
    "\n",
    "print('Mediana de ventas:', np.median(forbes2022['Sales']))\n",
    "print('Mediana de ventas en empresas sudamericanas:',np.median(f_suda['Sales']))\n",
    "print('Mediana de ventas en empresas europa:',np.median(f_europe['Sales']))\n"
   ]
  },
  {
   "cell_type": "code",
   "execution_count": 52,
   "metadata": {},
   "outputs": [
    {
     "data": {
      "text/plain": [
       "Sales            23876.0350\n",
       "Profits           2502.1240\n",
       "Assets          117035.2375\n",
       "Market_value     38242.6065\n",
       "Unnamed                 NaN\n",
       "dtype: float64"
      ]
     },
     "execution_count": 52,
     "metadata": {},
     "output_type": "execute_result"
    }
   ],
   "source": [
    "forbes2022.iloc[:,3:].apply(func=np.mean,axis = 0) #0 para columnas, 1 para filas\n"
   ]
  },
  {
   "cell_type": "code",
   "execution_count": 53,
   "metadata": {},
   "outputs": [
    {
     "data": {
      "text/plain": [
       "Sales           12170.0\n",
       "Profits          1055.0\n",
       "Assets          32010.0\n",
       "Market_value    16625.0\n",
       "Unnamed             NaN\n",
       "dtype: float64"
      ]
     },
     "execution_count": 53,
     "metadata": {},
     "output_type": "execute_result"
    }
   ],
   "source": [
    "forbes2022.iloc[:,3:].apply(func=np.median,axis = 0)\n"
   ]
  },
  {
   "cell_type": "code",
   "execution_count": 54,
   "metadata": {},
   "outputs": [
    {
     "data": {
      "text/plain": [
       "Sales            40933.665036\n",
       "Profits           6157.663780\n",
       "Assets          363651.663576\n",
       "Market_value    117177.491000\n",
       "Unnamed                   NaN\n",
       "dtype: float64"
      ]
     },
     "execution_count": 54,
     "metadata": {},
     "output_type": "execute_result"
    }
   ],
   "source": [
    "forbes2022.iloc[:,3:].apply(func=np.std,axis = 0)\n"
   ]
  },
  {
   "cell_type": "code",
   "execution_count": 55,
   "metadata": {},
   "outputs": [],
   "source": [
    "def cv(data):\n",
    "    media = np.mean(data)\n",
    "    sd = np.std(data)\n",
    "    coef = (sd/media)*100\n",
    "    return coef"
   ]
  },
  {
   "cell_type": "code",
   "execution_count": 56,
   "metadata": {},
   "outputs": [
    {
     "data": {
      "text/plain": [
       "171.44247374505886"
      ]
     },
     "execution_count": 56,
     "metadata": {},
     "output_type": "execute_result"
    }
   ],
   "source": [
    "cv(forbes2022['Sales'])\n"
   ]
  },
  {
   "cell_type": "code",
   "execution_count": 57,
   "metadata": {},
   "outputs": [
    {
     "data": {
      "text/plain": [
       "Sales           171.442474\n",
       "Profits         246.097467\n",
       "Assets          310.719807\n",
       "Market_value    306.405608\n",
       "Unnamed                NaN\n",
       "dtype: float64"
      ]
     },
     "execution_count": 57,
     "metadata": {},
     "output_type": "execute_result"
    }
   ],
   "source": [
    "forbes2022.iloc[:,3:].apply(func=cv,axis = 0)\n"
   ]
  },
  {
   "cell_type": "code",
   "execution_count": 58,
   "metadata": {},
   "outputs": [
    {
     "data": {
      "text/plain": [
       "21.0"
      ]
     },
     "execution_count": 58,
     "metadata": {},
     "output_type": "execute_result"
    }
   ],
   "source": [
    "# outliears: datos atípicos\n",
    "\n",
    "age = [20,22,19,21,69]\n",
    "np.mean(age)\n",
    "np.median(age)"
   ]
  },
  {
   "cell_type": "markdown",
   "metadata": {},
   "source": [
    "# Librería gráfica Matplotlib\n",
    "Es una biblioteca de visualización de datos multiplataforma basa en los arrays de numpy\n",
    "\n",
    "### import matplotlib as mpl\n",
    "### import matplotlib.pyplot as plt"
   ]
  },
  {
   "cell_type": "code",
   "execution_count": 59,
   "metadata": {},
   "outputs": [
    {
     "name": "stdout",
     "output_type": "stream",
     "text": [
      "Requirement already satisfied: Pillow in c:\\users\\shirley\\appdata\\local\\packages\\pythonsoftwarefoundation.python.3.11_qbz5n2kfra8p0\\localcache\\local-packages\\python311\\site-packages (10.0.1)\n"
     ]
    }
   ],
   "source": [
    "!pip install -U Pillow"
   ]
  },
  {
   "cell_type": "code",
   "execution_count": 60,
   "metadata": {},
   "outputs": [
    {
     "name": "stdout",
     "output_type": "stream",
     "text": [
      "Requirement already satisfied: matplotlib in c:\\users\\shirley\\appdata\\local\\packages\\pythonsoftwarefoundation.python.3.11_qbz5n2kfra8p0\\localcache\\local-packages\\python311\\site-packages (3.8.0)\n",
      "Requirement already satisfied: contourpy>=1.0.1 in c:\\users\\shirley\\appdata\\local\\packages\\pythonsoftwarefoundation.python.3.11_qbz5n2kfra8p0\\localcache\\local-packages\\python311\\site-packages (from matplotlib) (1.1.1)\n",
      "Requirement already satisfied: cycler>=0.10 in c:\\users\\shirley\\appdata\\local\\packages\\pythonsoftwarefoundation.python.3.11_qbz5n2kfra8p0\\localcache\\local-packages\\python311\\site-packages (from matplotlib) (0.11.0)\n",
      "Requirement already satisfied: fonttools>=4.22.0 in c:\\users\\shirley\\appdata\\local\\packages\\pythonsoftwarefoundation.python.3.11_qbz5n2kfra8p0\\localcache\\local-packages\\python311\\site-packages (from matplotlib) (4.42.1)\n",
      "Requirement already satisfied: kiwisolver>=1.0.1 in c:\\users\\shirley\\appdata\\local\\packages\\pythonsoftwarefoundation.python.3.11_qbz5n2kfra8p0\\localcache\\local-packages\\python311\\site-packages (from matplotlib) (1.4.5)\n",
      "Requirement already satisfied: numpy<2,>=1.21 in c:\\users\\shirley\\appdata\\local\\packages\\pythonsoftwarefoundation.python.3.11_qbz5n2kfra8p0\\localcache\\local-packages\\python311\\site-packages (from matplotlib) (1.26.0)\n",
      "Requirement already satisfied: packaging>=20.0 in c:\\users\\shirley\\appdata\\local\\packages\\pythonsoftwarefoundation.python.3.11_qbz5n2kfra8p0\\localcache\\local-packages\\python311\\site-packages (from matplotlib) (23.1)\n",
      "Requirement already satisfied: pillow>=6.2.0 in c:\\users\\shirley\\appdata\\local\\packages\\pythonsoftwarefoundation.python.3.11_qbz5n2kfra8p0\\localcache\\local-packages\\python311\\site-packages (from matplotlib) (10.0.1)\n",
      "Requirement already satisfied: pyparsing>=2.3.1 in c:\\users\\shirley\\appdata\\local\\packages\\pythonsoftwarefoundation.python.3.11_qbz5n2kfra8p0\\localcache\\local-packages\\python311\\site-packages (from matplotlib) (3.1.1)\n",
      "Requirement already satisfied: python-dateutil>=2.7 in c:\\users\\shirley\\appdata\\local\\packages\\pythonsoftwarefoundation.python.3.11_qbz5n2kfra8p0\\localcache\\local-packages\\python311\\site-packages (from matplotlib) (2.8.2)\n",
      "Requirement already satisfied: six>=1.5 in c:\\users\\shirley\\appdata\\local\\packages\\pythonsoftwarefoundation.python.3.11_qbz5n2kfra8p0\\localcache\\local-packages\\python311\\site-packages (from python-dateutil>=2.7->matplotlib) (1.16.0)\n"
     ]
    }
   ],
   "source": [
    "!pip install matplotlib\n"
   ]
  },
  {
   "cell_type": "code",
   "execution_count": 61,
   "metadata": {},
   "outputs": [
    {
     "name": "stdout",
     "output_type": "stream",
     "text": [
      "Requirement already satisfied: matplotlib in c:\\users\\shirley\\appdata\\local\\packages\\pythonsoftwarefoundation.python.3.11_qbz5n2kfra8p0\\localcache\\local-packages\\python311\\site-packages (3.8.0)\n",
      "Requirement already satisfied: contourpy>=1.0.1 in c:\\users\\shirley\\appdata\\local\\packages\\pythonsoftwarefoundation.python.3.11_qbz5n2kfra8p0\\localcache\\local-packages\\python311\\site-packages (from matplotlib) (1.1.1)\n",
      "Requirement already satisfied: cycler>=0.10 in c:\\users\\shirley\\appdata\\local\\packages\\pythonsoftwarefoundation.python.3.11_qbz5n2kfra8p0\\localcache\\local-packages\\python311\\site-packages (from matplotlib) (0.11.0)\n",
      "Requirement already satisfied: fonttools>=4.22.0 in c:\\users\\shirley\\appdata\\local\\packages\\pythonsoftwarefoundation.python.3.11_qbz5n2kfra8p0\\localcache\\local-packages\\python311\\site-packages (from matplotlib) (4.42.1)\n",
      "Requirement already satisfied: kiwisolver>=1.0.1 in c:\\users\\shirley\\appdata\\local\\packages\\pythonsoftwarefoundation.python.3.11_qbz5n2kfra8p0\\localcache\\local-packages\\python311\\site-packages (from matplotlib) (1.4.5)\n",
      "Requirement already satisfied: numpy<2,>=1.21 in c:\\users\\shirley\\appdata\\local\\packages\\pythonsoftwarefoundation.python.3.11_qbz5n2kfra8p0\\localcache\\local-packages\\python311\\site-packages (from matplotlib) (1.26.0)\n",
      "Requirement already satisfied: packaging>=20.0 in c:\\users\\shirley\\appdata\\local\\packages\\pythonsoftwarefoundation.python.3.11_qbz5n2kfra8p0\\localcache\\local-packages\\python311\\site-packages (from matplotlib) (23.1)\n",
      "Requirement already satisfied: pillow>=6.2.0 in c:\\users\\shirley\\appdata\\local\\packages\\pythonsoftwarefoundation.python.3.11_qbz5n2kfra8p0\\localcache\\local-packages\\python311\\site-packages (from matplotlib) (10.0.1)\n",
      "Requirement already satisfied: pyparsing>=2.3.1 in c:\\users\\shirley\\appdata\\local\\packages\\pythonsoftwarefoundation.python.3.11_qbz5n2kfra8p0\\localcache\\local-packages\\python311\\site-packages (from matplotlib) (3.1.1)\n",
      "Requirement already satisfied: python-dateutil>=2.7 in c:\\users\\shirley\\appdata\\local\\packages\\pythonsoftwarefoundation.python.3.11_qbz5n2kfra8p0\\localcache\\local-packages\\python311\\site-packages (from matplotlib) (2.8.2)\n",
      "Requirement already satisfied: six>=1.5 in c:\\users\\shirley\\appdata\\local\\packages\\pythonsoftwarefoundation.python.3.11_qbz5n2kfra8p0\\localcache\\local-packages\\python311\\site-packages (from python-dateutil>=2.7->matplotlib) (1.16.0)\n"
     ]
    }
   ],
   "source": [
    "!pip install matplotlib --upgrade\n"
   ]
  },
  {
   "cell_type": "code",
   "execution_count": 62,
   "metadata": {},
   "outputs": [
    {
     "name": "stdout",
     "output_type": "stream",
     "text": [
      "Requirement already satisfied: matplotlib in c:\\users\\shirley\\appdata\\local\\packages\\pythonsoftwarefoundation.python.3.11_qbz5n2kfra8p0\\localcache\\local-packages\\python311\\site-packages (3.8.0)\n",
      "Requirement already satisfied: contourpy>=1.0.1 in c:\\users\\shirley\\appdata\\local\\packages\\pythonsoftwarefoundation.python.3.11_qbz5n2kfra8p0\\localcache\\local-packages\\python311\\site-packages (from matplotlib) (1.1.1)\n",
      "Requirement already satisfied: cycler>=0.10 in c:\\users\\shirley\\appdata\\local\\packages\\pythonsoftwarefoundation.python.3.11_qbz5n2kfra8p0\\localcache\\local-packages\\python311\\site-packages (from matplotlib) (0.11.0)\n",
      "Requirement already satisfied: fonttools>=4.22.0 in c:\\users\\shirley\\appdata\\local\\packages\\pythonsoftwarefoundation.python.3.11_qbz5n2kfra8p0\\localcache\\local-packages\\python311\\site-packages (from matplotlib) (4.42.1)\n",
      "Requirement already satisfied: kiwisolver>=1.0.1 in c:\\users\\shirley\\appdata\\local\\packages\\pythonsoftwarefoundation.python.3.11_qbz5n2kfra8p0\\localcache\\local-packages\\python311\\site-packages (from matplotlib) (1.4.5)\n",
      "Requirement already satisfied: numpy<2,>=1.21 in c:\\users\\shirley\\appdata\\local\\packages\\pythonsoftwarefoundation.python.3.11_qbz5n2kfra8p0\\localcache\\local-packages\\python311\\site-packages (from matplotlib) (1.26.0)\n",
      "Requirement already satisfied: packaging>=20.0 in c:\\users\\shirley\\appdata\\local\\packages\\pythonsoftwarefoundation.python.3.11_qbz5n2kfra8p0\\localcache\\local-packages\\python311\\site-packages (from matplotlib) (23.1)\n",
      "Requirement already satisfied: pillow>=6.2.0 in c:\\users\\shirley\\appdata\\local\\packages\\pythonsoftwarefoundation.python.3.11_qbz5n2kfra8p0\\localcache\\local-packages\\python311\\site-packages (from matplotlib) (10.0.1)\n",
      "Requirement already satisfied: pyparsing>=2.3.1 in c:\\users\\shirley\\appdata\\local\\packages\\pythonsoftwarefoundation.python.3.11_qbz5n2kfra8p0\\localcache\\local-packages\\python311\\site-packages (from matplotlib) (3.1.1)\n",
      "Requirement already satisfied: python-dateutil>=2.7 in c:\\users\\shirley\\appdata\\local\\packages\\pythonsoftwarefoundation.python.3.11_qbz5n2kfra8p0\\localcache\\local-packages\\python311\\site-packages (from matplotlib) (2.8.2)\n",
      "Requirement already satisfied: six>=1.5 in c:\\users\\shirley\\appdata\\local\\packages\\pythonsoftwarefoundation.python.3.11_qbz5n2kfra8p0\\localcache\\local-packages\\python311\\site-packages (from python-dateutil>=2.7->matplotlib) (1.16.0)\n",
      "Note: you may need to restart the kernel to use updated packages.\n"
     ]
    }
   ],
   "source": [
    "pip install matplotlib --user\n"
   ]
  },
  {
   "cell_type": "code",
   "execution_count": 63,
   "metadata": {},
   "outputs": [
    {
     "name": "stderr",
     "output_type": "stream",
     "text": [
      "Matplotlib is building the font cache; this may take a moment.\n"
     ]
    }
   ],
   "source": [
    "import matplotlib.pyplot as plt"
   ]
  },
  {
   "cell_type": "code",
   "execution_count": 64,
   "metadata": {},
   "outputs": [
    {
     "data": {
      "image/png": "[encoded data removed]",
      "text/plain": [
       "<Figure size 640x480 with 1 Axes>"
      ]
     },
     "metadata": {},
     "output_type": "display_data"
    }
   ],
   "source": [
    "# Bar plot\n",
    "table_suda=f_suda['Country'].value_counts()\n",
    "table_suda\n",
    "\n",
    "plt.bar(table_suda.index,table_suda.values, color = 'purple', alpha = 0.9, edgecolor = 'white') #Crea el gráfico de barras\n",
    "plt.title('Frecuencia de empresas sudamericanas')\n",
    "plt.xlabel('Paises sudamericanos')\n",
    "plt.ylabel('Frecuencia absoluta')\n",
    "plt.grid(color = 'gray',alpha = 0.3, linestyle = 'solid')\n",
    "\n",
    "plt.show() #Imprime el gráfic"
   ]
  },
  {
   "cell_type": "code",
   "execution_count": 65,
   "metadata": {},
   "outputs": [
    {
     "data": {
      "image/png": "[encoded data removed]",
      "text/plain": [
       "<Figure size 640x480 with 1 Axes>"
      ]
     },
     "metadata": {},
     "output_type": "display_data"
    }
   ],
   "source": [
    "table_europe = f_europe['Country'].value_counts()\n",
    "\n",
    "\n",
    "plt.bar(table_europe.index,table_europe.values, color = 'orange', alpha = .9, edgecolor = 'white') #Crea el gráfico de barras\n",
    "plt.title('Frecuencia de empresas sudamericanas')\n",
    "plt.xlabel('Paises sudamericanos')\n",
    "plt.ylabel('Frecuencia absoluta')\n",
    "plt.grid(color = 'gray',alpha = 0.3, linestyle = 'solid')\n",
    "\n",
    "plt.show() #Imprime el gráfico"
   ]
  },
  {
   "cell_type": "code",
   "execution_count": 66,
   "metadata": {},
   "outputs": [
    {
     "data": {
      "image/png": "[encoded data removed]",
      "text/plain": [
       "<Figure size 640x480 with 1 Axes>"
      ]
     },
     "metadata": {},
     "output_type": "display_data"
    }
   ],
   "source": [
    "# pie chart\n",
    "\n",
    "plt.pie(table_suda.values,labels=table_suda.index)\n",
    "plt.title('Segmento de empresas por paises')\n",
    "\n",
    "plt.show()"
   ]
  },
  {
   "cell_type": "code",
   "execution_count": 68,
   "metadata": {},
   "outputs": [
    {
     "data": {
      "image/png": "[encoded data removed]",
      "text/plain": [
       "<Figure size 640x480 with 1 Axes>"
      ]
     },
     "metadata": {},
     "output_type": "display_data"
    }
   ],
   "source": [
    "# Histogramas\n",
    "\n",
    "plt.hist(forbes2022[\"Sales\"], color='purple',edgecolor = 'black')\n",
    "plt.grid(color='gray', linestyle='solid', alpha = 0.3)\n",
    "\n",
    "plt.show()"
   ]
  },
  {
   "cell_type": "code",
   "execution_count": 71,
   "metadata": {},
   "outputs": [
    {
     "data": {
      "image/png": "[encoded data removed]",
      "text/plain": [
       "<Figure size 640x480 with 1 Axes>"
      ]
     },
     "metadata": {},
     "output_type": "display_data"
    }
   ],
   "source": [
    "plt.hist(forbes2022[\"Profits\"], color='orange',edgecolor = 'black')\n",
    "plt.grid(color='gray', linestyle='solid', alpha = 0.3)\n",
    "\n",
    "plt.show()"
   ]
  },
  {
   "cell_type": "code",
   "execution_count": 70,
   "metadata": {},
   "outputs": [
    {
     "data": {
      "image/png": "[encoded data removed]",
      "text/plain": [
       "<Figure size 640x480 with 1 Axes>"
      ]
     },
     "metadata": {},
     "output_type": "display_data"
    }
   ],
   "source": [
    "# Crear histograma para la columna \"Sales\"\n",
    "plt.hist(forbes2022['Sales'], alpha=0.5, label='Sales')\n",
    "\n",
    "# Crear histograma para la columna \"Profits\"\n",
    "plt.hist(forbes2022['Profits'], alpha=0.5, label='Profits')\n",
    "\n",
    "# Agregar leyenda\n",
    "plt.legend()\n",
    "\n",
    "# Configurar etiquetas y título\n",
    "plt.xlabel('Valor')\n",
    "plt.ylabel('Frecuencia')\n",
    "plt.title('Histograma de Sales y Profits')\n",
    "plt.grid(color='gray', linestyle='solid', alpha = 0.3)\n",
    "\n",
    "\n",
    "# Mostrar el gráfico\n",
    "plt.show()"
   ]
  }
 ],
 "metadata": {
  "kernelspec": {
   "display_name": "Python 3",
   "language": "python",
   "name": "python3"
  },
  "language_info": {
   "codemirror_mode": {
    "name": "ipython",
    "version": 3
   },
   "file_extension": ".py",
   "mimetype": "text/x-python",
   "name": "python",
   "nbconvert_exporter": "python",
   "pygments_lexer": "ipython3",
   "version": "3.11.5"
  },
  "orig_nbformat": 4
 },
 "nbformat": 4,
 "nbformat_minor": 2
}
